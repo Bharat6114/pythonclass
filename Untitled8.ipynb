{
 "cells": [
  {
   "cell_type": "code",
   "execution_count": 2,
   "metadata": {},
   "outputs": [],
   "source": [
    "import os"
   ]
  },
  {
   "cell_type": "code",
   "execution_count": 3,
   "metadata": {},
   "outputs": [
    {
     "data": {
      "text/plain": [
       "'C:\\\\Users\\\\Bharat Bhandari\\\\PycharmProjects\\\\class'"
      ]
     },
     "execution_count": 3,
     "metadata": {},
     "output_type": "execute_result"
    }
   ],
   "source": [
    "os.getcwd()"
   ]
  },
  {
   "cell_type": "code",
   "execution_count": 11,
   "metadata": {},
   "outputs": [],
   "source": [
    "os.chdir(\"C:\\\\Users\\\\Bharat Bhandari\\\\Desktop\\\\phopto\\\\\")"
   ]
  },
  {
   "cell_type": "code",
   "execution_count": 13,
   "metadata": {},
   "outputs": [],
   "source": [
    "s=\"file.png.jpg\""
   ]
  },
  {
   "cell_type": "code",
   "execution_count": 14,
   "metadata": {},
   "outputs": [
    {
     "data": {
      "text/plain": [
       "['file.png.jpg']"
      ]
     },
     "execution_count": 14,
     "metadata": {},
     "output_type": "execute_result"
    }
   ],
   "source": [
    "s.split()"
   ]
  },
  {
   "cell_type": "code",
   "execution_count": 16,
   "metadata": {},
   "outputs": [
    {
     "data": {
      "text/plain": [
       "'jpg'"
      ]
     },
     "execution_count": 16,
     "metadata": {},
     "output_type": "execute_result"
    }
   ],
   "source": [
    "s.split(\".\")[-1]"
   ]
  },
  {
   "cell_type": "code",
   "execution_count": 12,
   "metadata": {},
   "outputs": [
    {
     "data": {
      "text/plain": [
       "['IMG_6209.JPG',\n",
       " 'IMG_6210.JPG',\n",
       " 'IMG_6211.JPG',\n",
       " 'IMG_6213.JPG',\n",
       " 'IMG_6218.JPG',\n",
       " 'IMG_6224.JPG',\n",
       " 'IMG_6226.JPG',\n",
       " 'IMG_6227.JPG',\n",
       " 'IMG_6228.JPG',\n",
       " 'IMG_6229.JPG',\n",
       " 'IMG_6230.JPG',\n",
       " 'IMG_6232.JPG',\n",
       " 'IMG_6235.JPG',\n",
       " 'IMG_6237.JPG',\n",
       " 'IMG_6246.JPG',\n",
       " 'IMG_6247.JPG',\n",
       " 'IMG_6248.JPG',\n",
       " 'IMG_6249.JPG',\n",
       " 'IMG_6250.JPG',\n",
       " 'IMG_6255.JPG',\n",
       " 'IMG_6256.JPG',\n",
       " 'IMG_6257.JPG',\n",
       " 'IMG_6258.JPG',\n",
       " 'IMG_6259.JPG',\n",
       " 'IMG_6262.JPG',\n",
       " 'IMG_6263.JPG',\n",
       " 'IMG_6264.JPG',\n",
       " 'IMG_6265.JPG',\n",
       " 'IMG_6266.JPG',\n",
       " 'IMG_6267.JPG',\n",
       " 'IMG_6268.JPG',\n",
       " 'IMG_6269.JPG',\n",
       " 'IMG_6270.JPG',\n",
       " 'IMG_6271.JPG',\n",
       " 'IMG_6274.JPG',\n",
       " 'IMG_6275.JPG',\n",
       " 'IMG_6276.JPG',\n",
       " 'IMG_6277.JPG',\n",
       " 'IMG_6279.JPG',\n",
       " 'IMG_6280.JPG',\n",
       " 'IMG_6281.JPG',\n",
       " 'IMG_6282.JPG',\n",
       " 'IMG_6283.JPG',\n",
       " 'IMG_6284.JPG',\n",
       " 'IMG_6285.JPG',\n",
       " 'IMG_6286.JPG',\n",
       " 'IMG_6287.JPG',\n",
       " 'IMG_6288.JPG',\n",
       " 'IMG_6289.JPG',\n",
       " 'IMG_6294.JPG',\n",
       " 'IMG_6295.JPG',\n",
       " 'IMG_6296.JPG',\n",
       " 'IMG_6297.JPG',\n",
       " 'IMG_6303.JPG',\n",
       " 'IMG_6304.JPG',\n",
       " 'IMG_6306.JPG',\n",
       " 'IMG_6311.JPG',\n",
       " 'IMG_6312.JPG',\n",
       " 'IMG_6314.JPG',\n",
       " 'IMG_6315.JPG']"
      ]
     },
     "execution_count": 12,
     "metadata": {},
     "output_type": "execute_result"
    }
   ],
   "source": [
    "os.listdir()"
   ]
  },
  {
   "cell_type": "code",
   "execution_count": 17,
   "metadata": {},
   "outputs": [],
   "source": [
    "for count,file in enumerate(os.listdir()):\n",
    "    ext= file.split(\".\")[-1]\n",
    "    os.rename(file,\"drn_2019_dec_{}.{}\".format(count,ext))"
   ]
  },
  {
   "cell_type": "code",
   "execution_count": 18,
   "metadata": {},
   "outputs": [
    {
     "data": {
      "text/plain": [
       "['drn_2019_dec_0.JPG',\n",
       " 'drn_2019_dec_1.JPG',\n",
       " 'drn_2019_dec_10.JPG',\n",
       " 'drn_2019_dec_11.JPG',\n",
       " 'drn_2019_dec_12.JPG',\n",
       " 'drn_2019_dec_13.JPG',\n",
       " 'drn_2019_dec_14.JPG',\n",
       " 'drn_2019_dec_15.JPG',\n",
       " 'drn_2019_dec_16.JPG',\n",
       " 'drn_2019_dec_17.JPG',\n",
       " 'drn_2019_dec_18.JPG',\n",
       " 'drn_2019_dec_19.JPG',\n",
       " 'drn_2019_dec_2.JPG',\n",
       " 'drn_2019_dec_20.JPG',\n",
       " 'drn_2019_dec_21.JPG',\n",
       " 'drn_2019_dec_22.JPG',\n",
       " 'drn_2019_dec_23.JPG',\n",
       " 'drn_2019_dec_24.JPG',\n",
       " 'drn_2019_dec_25.JPG',\n",
       " 'drn_2019_dec_26.JPG',\n",
       " 'drn_2019_dec_27.JPG',\n",
       " 'drn_2019_dec_28.JPG',\n",
       " 'drn_2019_dec_29.JPG',\n",
       " 'drn_2019_dec_3.JPG',\n",
       " 'drn_2019_dec_30.JPG',\n",
       " 'drn_2019_dec_31.JPG',\n",
       " 'drn_2019_dec_32.JPG',\n",
       " 'drn_2019_dec_33.JPG',\n",
       " 'drn_2019_dec_34.JPG',\n",
       " 'drn_2019_dec_35.JPG',\n",
       " 'drn_2019_dec_36.JPG',\n",
       " 'drn_2019_dec_37.JPG',\n",
       " 'drn_2019_dec_38.JPG',\n",
       " 'drn_2019_dec_39.JPG',\n",
       " 'drn_2019_dec_4.JPG',\n",
       " 'drn_2019_dec_40.JPG',\n",
       " 'drn_2019_dec_41.JPG',\n",
       " 'drn_2019_dec_42.JPG',\n",
       " 'drn_2019_dec_43.JPG',\n",
       " 'drn_2019_dec_44.JPG',\n",
       " 'drn_2019_dec_45.JPG',\n",
       " 'drn_2019_dec_46.JPG',\n",
       " 'drn_2019_dec_47.JPG',\n",
       " 'drn_2019_dec_48.JPG',\n",
       " 'drn_2019_dec_49.JPG',\n",
       " 'drn_2019_dec_5.JPG',\n",
       " 'drn_2019_dec_50.JPG',\n",
       " 'drn_2019_dec_51.JPG',\n",
       " 'drn_2019_dec_52.JPG',\n",
       " 'drn_2019_dec_53.JPG',\n",
       " 'drn_2019_dec_54.JPG',\n",
       " 'drn_2019_dec_55.JPG',\n",
       " 'drn_2019_dec_56.JPG',\n",
       " 'drn_2019_dec_57.JPG',\n",
       " 'drn_2019_dec_58.JPG',\n",
       " 'drn_2019_dec_59.JPG',\n",
       " 'drn_2019_dec_6.JPG',\n",
       " 'drn_2019_dec_7.JPG',\n",
       " 'drn_2019_dec_8.JPG',\n",
       " 'drn_2019_dec_9.JPG']"
      ]
     },
     "execution_count": 18,
     "metadata": {},
     "output_type": "execute_result"
    }
   ],
   "source": [
    "os.listdir()"
   ]
  }
 ],
 "metadata": {
  "kernelspec": {
   "display_name": "Python 3",
   "language": "python",
   "name": "python3"
  },
  "language_info": {
   "codemirror_mode": {
    "name": "ipython",
    "version": 3
   },
   "file_extension": ".py",
   "mimetype": "text/x-python",
   "name": "python",
   "nbconvert_exporter": "python",
   "pygments_lexer": "ipython3",
   "version": "3.7.4"
  }
 },
 "nbformat": 4,
 "nbformat_minor": 2
}
