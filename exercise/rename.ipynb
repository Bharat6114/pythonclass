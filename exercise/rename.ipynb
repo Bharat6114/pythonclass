{
 "cells": [
  {
   "cell_type": "code",
   "execution_count": 1,
   "metadata": {},
   "outputs": [],
   "source": [
    "import os"
   ]
  },
  {
   "cell_type": "code",
   "execution_count": 2,
   "metadata": {},
   "outputs": [
    {
     "data": {
      "text/plain": [
       "'C:\\\\Users\\\\Bharat Bhandari\\\\PycharmProjects\\\\exercise'"
      ]
     },
     "execution_count": 2,
     "metadata": {},
     "output_type": "execute_result"
    }
   ],
   "source": [
    "os.getcwd()"
   ]
  },
  {
   "cell_type": "code",
   "execution_count": 6,
   "metadata": {},
   "outputs": [],
   "source": [
    "os.chdir(\"C:\\\\Users\\Bharat Bhandari\\Videos\\img\\\\\")"
   ]
  },
  {
   "cell_type": "code",
   "execution_count": 7,
   "metadata": {},
   "outputs": [],
   "source": [
    "s=\"file.png.jpg\""
   ]
  },
  {
   "cell_type": "code",
   "execution_count": 8,
   "metadata": {},
   "outputs": [
    {
     "data": {
      "text/plain": [
       "['file.png.jpg']"
      ]
     },
     "execution_count": 8,
     "metadata": {},
     "output_type": "execute_result"
    }
   ],
   "source": [
    "s.split()"
   ]
  },
  {
   "cell_type": "code",
   "execution_count": 9,
   "metadata": {},
   "outputs": [
    {
     "data": {
      "text/plain": [
       "'jpg'"
      ]
     },
     "execution_count": 9,
     "metadata": {},
     "output_type": "execute_result"
    }
   ],
   "source": [
    "s.split(\".\")[-1]"
   ]
  },
  {
   "cell_type": "code",
   "execution_count": 10,
   "metadata": {},
   "outputs": [
    {
     "data": {
      "text/plain": [
       "['banner01.jpg',\n",
       " 'banner02.jpg',\n",
       " 'banner03.jpg',\n",
       " 'banner04.jpg',\n",
       " 'banner05.jpg',\n",
       " 'banner06.jpg',\n",
       " 'banner07.jpg',\n",
       " 'banner08.jpg',\n",
       " 'banner09.jpg',\n",
       " 'banner10.jpg',\n",
       " 'banner11.jpg',\n",
       " 'banner12.jpg',\n",
       " 'banner13.jpg',\n",
       " 'banner14.jpg',\n",
       " 'banner15.jpg',\n",
       " 'logo.png',\n",
       " 'main-product01.jpg',\n",
       " 'main-product02.jpg',\n",
       " 'main-product03.jpg',\n",
       " 'main-product04.jpg',\n",
       " 'product01.jpg',\n",
       " 'product02.jpg',\n",
       " 'product03.jpg',\n",
       " 'product04.jpg',\n",
       " 'product05.jpg',\n",
       " 'product06.jpg',\n",
       " 'product07.jpg',\n",
       " 'product08.jpg',\n",
       " 'thumb-product01.jpg',\n",
       " 'thumb-product02.jpg',\n",
       " 'thumb-product03.jpg',\n",
       " 'thumb-product04.jpg']"
      ]
     },
     "execution_count": 10,
     "metadata": {},
     "output_type": "execute_result"
    }
   ],
   "source": [
    "os.listdir()"
   ]
  },
  {
   "cell_type": "code",
   "execution_count": 15,
   "metadata": {},
   "outputs": [],
   "source": [
    "for count,file in enumerate(os.listdir ()):\n",
    "    ext=s.split(\".\")[-1]\n",
    "    os.rename(file,\"pokhara_2019_{}.{}\".format(count,ext))"
   ]
  },
  {
   "cell_type": "code",
   "execution_count": 16,
   "metadata": {},
   "outputs": [
    {
     "data": {
      "text/plain": [
       "['pokhara_2019_0.jpg',\n",
       " 'pokhara_2019_1.jpg',\n",
       " 'pokhara_2019_10.jpg',\n",
       " 'pokhara_2019_11.jpg',\n",
       " 'pokhara_2019_12.jpg',\n",
       " 'pokhara_2019_13.jpg',\n",
       " 'pokhara_2019_14.jpg',\n",
       " 'pokhara_2019_15.jpg',\n",
       " 'pokhara_2019_16.jpg',\n",
       " 'pokhara_2019_17.jpg',\n",
       " 'pokhara_2019_18.jpg',\n",
       " 'pokhara_2019_19.jpg',\n",
       " 'pokhara_2019_2.jpg',\n",
       " 'pokhara_2019_20.jpg',\n",
       " 'pokhara_2019_21.jpg',\n",
       " 'pokhara_2019_22.jpg',\n",
       " 'pokhara_2019_23.jpg',\n",
       " 'pokhara_2019_24.jpg',\n",
       " 'pokhara_2019_25.jpg',\n",
       " 'pokhara_2019_26.jpg',\n",
       " 'pokhara_2019_27.jpg',\n",
       " 'pokhara_2019_28.jpg',\n",
       " 'pokhara_2019_29.jpg',\n",
       " 'pokhara_2019_3.jpg',\n",
       " 'pokhara_2019_30.jpg',\n",
       " 'pokhara_2019_31.jpg',\n",
       " 'pokhara_2019_4.jpg',\n",
       " 'pokhara_2019_5.jpg',\n",
       " 'pokhara_2019_6.jpg',\n",
       " 'pokhara_2019_7.jpg',\n",
       " 'pokhara_2019_8.jpg',\n",
       " 'pokhara_2019_9.jpg']"
      ]
     },
     "execution_count": 16,
     "metadata": {},
     "output_type": "execute_result"
    }
   ],
   "source": [
    "os.listdir()"
   ]
  }
 ],
 "metadata": {
  "kernelspec": {
   "display_name": "Python 3",
   "language": "python",
   "name": "python3"
  },
  "language_info": {
   "codemirror_mode": {
    "name": "ipython",
    "version": 3
   },
   "file_extension": ".py",
   "mimetype": "text/x-python",
   "name": "python",
   "nbconvert_exporter": "python",
   "pygments_lexer": "ipython3",
   "version": "3.7.4"
  }
 },
 "nbformat": 4,
 "nbformat_minor": 2
}
