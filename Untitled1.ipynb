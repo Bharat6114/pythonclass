{
 "cells": [
  {
   "cell_type": "code",
   "execution_count": 1,
   "id": "3c60175f",
   "metadata": {},
   "outputs": [],
   "source": [
    "def maximum(a,b,c):\n",
    "    if(a>b and b>c):\n",
    "        print(\"a is maximum :\",a)\n",
    "    elif(b>a and b>c):\n",
    "        print(\"b is maximum :\",b)\n",
    "    else:\n",
    "        print(\"c is maximum :\",c)"
   ]
  },
  {
   "cell_type": "code",
   "execution_count": 2,
   "id": "e5fc6814",
   "metadata": {},
   "outputs": [
    {
     "name": "stdout",
     "output_type": "stream",
     "text": [
      "c is maximum : 50\n"
     ]
    }
   ],
   "source": [
    "maximum(30,40,50)"
   ]
  },
  {
   "cell_type": "code",
   "execution_count": 3,
   "id": "d0d090f1",
   "metadata": {},
   "outputs": [],
   "source": [
    "def sum(num):\n",
    "    total=0\n",
    "    for i in num:\n",
    "        total=total+i\n",
    "    return total"
   ]
  },
  {
   "cell_type": "code",
   "execution_count": 4,
   "id": "d4534211",
   "metadata": {},
   "outputs": [
    {
     "data": {
      "text/plain": [
       "14"
      ]
     },
     "execution_count": 4,
     "metadata": {},
     "output_type": "execute_result"
    }
   ],
   "source": [
    "sum([1,2,3,4,4])"
   ]
  },
  {
   "cell_type": "code",
   "execution_count": 7,
   "id": "144b9d64",
   "metadata": {},
   "outputs": [],
   "source": [
    "def multiply(num):\n",
    "    total=1\n",
    "    for i in num:\n",
    "        total = total*i\n",
    "    return total\n"
   ]
  },
  {
   "cell_type": "code",
   "execution_count": 8,
   "id": "765eb82d",
   "metadata": {},
   "outputs": [
    {
     "data": {
      "text/plain": [
       "120"
      ]
     },
     "execution_count": 8,
     "metadata": {},
     "output_type": "execute_result"
    }
   ],
   "source": [
    "multiply([1,2,3,4,5])"
   ]
  },
  {
   "cell_type": "code",
   "execution_count": 9,
   "id": "8982229a",
   "metadata": {},
   "outputs": [],
   "source": [
    "def reverse(string1):\n",
    "    string2=''\n",
    "    index=len(string1)\n",
    "    for i in string1:\n",
    "        string2=string2+string1[index-1]\n",
    "        index=index-1\n",
    "    return string2"
   ]
  },
  {
   "cell_type": "code",
   "execution_count": 10,
   "id": "730b1c31",
   "metadata": {},
   "outputs": [
    {
     "data": {
      "text/plain": [
       "'tarahb'"
      ]
     },
     "execution_count": 10,
     "metadata": {},
     "output_type": "execute_result"
    }
   ],
   "source": [
    "reverse(\"bharat\")"
   ]
  },
  {
   "cell_type": "code",
   "execution_count": 20,
   "id": "554b2022",
   "metadata": {},
   "outputs": [],
   "source": [
    "def factorial(num):\n",
    "    if(num<0):\n",
    "        print(\"the number is negative\")\n",
    "    elif(num==1):\n",
    "        return 1\n",
    "    else:\n",
    "        for i in range(1,num):\n",
    "            return num*factorial(num-1)\n",
    "        "
   ]
  },
  {
   "cell_type": "code",
   "execution_count": 23,
   "id": "8841e04a",
   "metadata": {},
   "outputs": [
    {
     "data": {
      "text/plain": [
       "6"
      ]
     },
     "execution_count": 23,
     "metadata": {},
     "output_type": "execute_result"
    }
   ],
   "source": [
    "factorial(3)"
   ]
  },
  {
   "cell_type": "code",
   "execution_count": 26,
   "id": "2664416f",
   "metadata": {},
   "outputs": [],
   "source": [
    "def num(n):\n",
    "    if n in range(1,20):\n",
    "        print(\"the number is in range\")\n",
    "    else:\n",
    "        print(\"the number is not in range\")\n",
    "        "
   ]
  },
  {
   "cell_type": "code",
   "execution_count": 28,
   "id": "8276eddb",
   "metadata": {},
   "outputs": [
    {
     "name": "stdout",
     "output_type": "stream",
     "text": [
      "the number is not in range\n"
     ]
    }
   ],
   "source": [
    "num(200)"
   ]
  },
  {
   "cell_type": "code",
   "execution_count": 31,
   "id": "902741cd",
   "metadata": {},
   "outputs": [],
   "source": [
    "def upperandlower(string1):\n",
    "    upper=0\n",
    "    lower=0\n",
    "    for i in string1:\n",
    "        if i.isupper():\n",
    "            upper=upper+1\n",
    "        else:\n",
    "            lower=lower+1\n",
    "    print(\"total upper element =\",upper)\n",
    "    print(\"total lower element =\",lower)"
   ]
  },
  {
   "cell_type": "code",
   "execution_count": 32,
   "id": "6db56af4",
   "metadata": {},
   "outputs": [
    {
     "name": "stdout",
     "output_type": "stream",
     "text": [
      "total upper element = 3\n",
      "total lower element = 7\n"
     ]
    }
   ],
   "source": [
    "upperandlower(\"jfdkjdfKHT\")"
   ]
  },
  {
   "cell_type": "code",
   "execution_count": 33,
   "id": "ce5e667d",
   "metadata": {},
   "outputs": [],
   "source": [
    "def unique(list1):\n",
    "    list2=[]\n",
    "    for i in list1:\n",
    "        if i not in list2:\n",
    "            list2.append(i)\n",
    "        else:\n",
    "            pass\n",
    "    return list2"
   ]
  },
  {
   "cell_type": "code",
   "execution_count": 34,
   "id": "8056da52",
   "metadata": {},
   "outputs": [
    {
     "data": {
      "text/plain": [
       "[1, 2, 3, 4, 5]"
      ]
     },
     "execution_count": 34,
     "metadata": {},
     "output_type": "execute_result"
    }
   ],
   "source": [
    "unique([1,2,3,4,4,5])"
   ]
  },
  {
   "cell_type": "code",
   "execution_count": 35,
   "id": "e41fc067",
   "metadata": {},
   "outputs": [],
   "source": [
    "def unique(list1):\n",
    "    set1=set({})\n",
    "    for i in list1:\n",
    "        set1.add(i)\n",
    "    return list(set1)"
   ]
  },
  {
   "cell_type": "code",
   "execution_count": 36,
   "id": "b7c9d844",
   "metadata": {},
   "outputs": [
    {
     "data": {
      "text/plain": [
       "[1, 2, 3, 4, 5, 6]"
      ]
     },
     "execution_count": 36,
     "metadata": {},
     "output_type": "execute_result"
    }
   ],
   "source": [
    "unique([1,2,3,4,4,5,6,6])"
   ]
  },
  {
   "cell_type": "code",
   "execution_count": 44,
   "id": "f6b260f2",
   "metadata": {},
   "outputs": [],
   "source": [
    "def prime(num):\n",
    "    if(num==1):\n",
    "        print(\"the number is prime\")\n",
    "    elif(num==2):\n",
    "        print(\"the number is not prime\")\n",
    "    else:\n",
    "        for i in range(2,num):\n",
    "            if(num%i==0):\n",
    "                return False\n",
    "        else:\n",
    "            return True"
   ]
  },
  {
   "cell_type": "code",
   "execution_count": 46,
   "id": "69eb1bc6",
   "metadata": {},
   "outputs": [
    {
     "data": {
      "text/plain": [
       "False"
      ]
     },
     "execution_count": 46,
     "metadata": {},
     "output_type": "execute_result"
    }
   ],
   "source": [
    "prime(9)"
   ]
  },
  {
   "cell_type": "code",
   "execution_count": 50,
   "id": "80b80ea6",
   "metadata": {},
   "outputs": [],
   "source": [
    "def even(list1):\n",
    "    list2=[]\n",
    "    for i in list1:\n",
    "        if(i%2==0):\n",
    "            list2.append(i**2)\n",
    "        else:\n",
    "            pass\n",
    "    return list2"
   ]
  },
  {
   "cell_type": "code",
   "execution_count": 51,
   "id": "b13b20c3",
   "metadata": {},
   "outputs": [
    {
     "data": {
      "text/plain": [
       "[4, 16]"
      ]
     },
     "execution_count": 51,
     "metadata": {},
     "output_type": "execute_result"
    }
   ],
   "source": [
    "even([1,2,3,43,4])"
   ]
  },
  {
   "cell_type": "code",
   "execution_count": 52,
   "id": "8d4d2f8a",
   "metadata": {},
   "outputs": [],
   "source": [
    "def perfect(num):\n",
    "    sum=0\n",
    "    for i in range(1,num):\n",
    "        if(num%i==0):\n",
    "            sum=sum+i\n",
    "    return sum==num \n",
    "            "
   ]
  },
  {
   "cell_type": "code",
   "execution_count": 54,
   "id": "77fd914f",
   "metadata": {},
   "outputs": [
    {
     "data": {
      "text/plain": [
       "False"
      ]
     },
     "execution_count": 54,
     "metadata": {},
     "output_type": "execute_result"
    }
   ],
   "source": [
    "perfect(9)"
   ]
  },
  {
   "cell_type": "code",
   "execution_count": 57,
   "id": "27fd9384",
   "metadata": {},
   "outputs": [],
   "source": [
    "def palendrom(string1):\n",
    "    if(string1==string1[::-1]):\n",
    "        return \"the string is palendrom\"\n",
    "    else:\n",
    "        return \"the string is not palendrom\""
   ]
  },
  {
   "cell_type": "code",
   "execution_count": 59,
   "id": "f815a5d0",
   "metadata": {},
   "outputs": [
    {
     "data": {
      "text/plain": [
       "'the string is palendrom'"
      ]
     },
     "execution_count": 59,
     "metadata": {},
     "output_type": "execute_result"
    }
   ],
   "source": [
    "palendrom(\"palap\")"
   ]
  },
  {
   "cell_type": "code",
   "execution_count": 62,
   "id": "8cdcd4b7",
   "metadata": {},
   "outputs": [],
   "source": [
    "def sorting(string1):\n",
    "    item=string1.split(\"-\")\n",
    "    item.sort()\n",
    "    sortedstring= '-'.join(item)\n",
    "    return sortedstring"
   ]
  },
  {
   "cell_type": "code",
   "execution_count": 63,
   "id": "e01e927f",
   "metadata": {},
   "outputs": [
    {
     "data": {
      "text/plain": [
       "'developer-hello-im-python'"
      ]
     },
     "execution_count": 63,
     "metadata": {},
     "output_type": "execute_result"
    }
   ],
   "source": [
    "sorting(\"hello-im-python-developer\")"
   ]
  },
  {
   "cell_type": "code",
   "execution_count": 64,
   "id": "0ef761d4",
   "metadata": {},
   "outputs": [],
   "source": [
    "def square(num):\n",
    "    list1=[]\n",
    "    for i in num:\n",
    "        list1.append(i**2)\n",
    "    return list1"
   ]
  },
  {
   "cell_type": "code",
   "execution_count": 65,
   "id": "3d39873d",
   "metadata": {},
   "outputs": [
    {
     "data": {
      "text/plain": [
       "[1,\n",
       " 4,\n",
       " 9,\n",
       " 16,\n",
       " 25,\n",
       " 36,\n",
       " 49,\n",
       " 64,\n",
       " 81,\n",
       " 100,\n",
       " 121,\n",
       " 144,\n",
       " 169,\n",
       " 196,\n",
       " 225,\n",
       " 256,\n",
       " 289,\n",
       " 324,\n",
       " 361,\n",
       " 400,\n",
       " 441,\n",
       " 484,\n",
       " 529,\n",
       " 576,\n",
       " 625,\n",
       " 676,\n",
       " 729,\n",
       " 784,\n",
       " 841,\n",
       " 900]"
      ]
     },
     "execution_count": 65,
     "metadata": {},
     "output_type": "execute_result"
    }
   ],
   "source": [
    "square(range(1,31))"
   ]
  },
  {
   "cell_type": "code",
   "execution_count": 73,
   "id": "c24d090e",
   "metadata": {},
   "outputs": [
    {
     "name": "stdout",
     "output_type": "stream",
     "text": [
      "<b><i><u>hello world</u></i></b>\n"
     ]
    }
   ],
   "source": [
    "def make_bold(fn):\n",
    "    def wrapped():\n",
    "        return \"<b>\" + fn() + \"</b>\"\n",
    "    return wrapped\n",
    "\n",
    "def make_italic(fn):\n",
    "    def wrapped():\n",
    "        return \"<i>\" + fn() + \"</i>\"\n",
    "    return wrapped\n",
    "\n",
    "def make_underline(fn):\n",
    "    def wrapped():\n",
    "        return \"<u>\" + fn() + \"</u>\"\n",
    "    return wrapped\n",
    "@make_bold\n",
    "@make_italic\n",
    "@make_underline\n",
    "def hello():\n",
    "    return \"hello world\"\n",
    "print(hello()) ## returns \"<b><i><u>hello world</u></i></b>\""
   ]
  },
  {
   "cell_type": "code",
   "execution_count": 94,
   "id": "f348e04f",
   "metadata": {},
   "outputs": [
    {
     "name": "stdout",
     "output_type": "stream",
     "text": [
      "3\n"
     ]
    }
   ],
   "source": [
    "def fun():\n",
    "    a=2\n",
    "    b=12\n",
    "    c=\"local\"\n",
    "    return a,b,c\n",
    "print(fun.__code__.co_nlocals)"
   ]
  },
  {
   "cell_type": "code",
   "execution_count": 96,
   "id": "8490f9ad",
   "metadata": {},
   "outputs": [
    {
     "data": {
      "text/plain": [
       "22"
      ]
     },
     "execution_count": 96,
     "metadata": {},
     "output_type": "execute_result"
    }
   ],
   "source": [
    "string1=\"hello python developer\"\n",
    "len(string1)"
   ]
  },
  {
   "cell_type": "code",
   "execution_count": 97,
   "id": "3adc5020",
   "metadata": {},
   "outputs": [],
   "source": [
    "def countcharacters(string):\n",
    "    total=0\n",
    "    for i in string:\n",
    "        total=total+1\n",
    "    return total"
   ]
  },
  {
   "cell_type": "code",
   "execution_count": 100,
   "id": "87e870ff",
   "metadata": {},
   "outputs": [
    {
     "data": {
      "text/plain": [
       "14"
      ]
     },
     "execution_count": 100,
     "metadata": {},
     "output_type": "execute_result"
    }
   ],
   "source": [
    "countcharacters(\"bharatbhandari\")"
   ]
  },
  {
   "cell_type": "code",
   "execution_count": 103,
   "id": "b7144db5",
   "metadata": {},
   "outputs": [
    {
     "name": "stdout",
     "output_type": "stream",
     "text": [
      "{'g': 2, 'o': 3, 'l': 1, 'e': 1, '.': 1, 'c': 1, 'm': 1}\n"
     ]
    }
   ],
   "source": [
    "def char_frequency(str1):\n",
    "    dict = {}\n",
    "    for n in str1:\n",
    "        keys = dict.keys()\n",
    "        \n",
    "        if n in keys:\n",
    "            dict[n] += 1\n",
    "        else:\n",
    "            dict[n] = 1\n",
    "    return dict\n",
    "print(char_frequency('google.com'))"
   ]
  },
  {
   "cell_type": "code",
   "execution_count": 2,
   "id": "6e80a61b",
   "metadata": {},
   "outputs": [
    {
     "data": {
      "text/plain": [
       "23"
      ]
     },
     "execution_count": 2,
     "metadata": {},
     "output_type": "execute_result"
    }
   ],
   "source": [
    "string1=\"dsnvkdsjanvafdsknkdsnla\"\n",
    "len(string1)"
   ]
  },
  {
   "cell_type": "code",
   "execution_count": 7,
   "id": "7265b727",
   "metadata": {},
   "outputs": [],
   "source": [
    "def string1(string2):\n",
    "    dict={}\n",
    "    for i in string2:\n",
    "        keys=dict.keys()\n",
    "        if i in keys:\n",
    "            dict[i]=dict[i]+1\n",
    "        else:\n",
    "            dict[i]=1\n",
    "    return dict"
   ]
  },
  {
   "cell_type": "code",
   "execution_count": 8,
   "id": "d3ef92a8",
   "metadata": {},
   "outputs": [
    {
     "data": {
      "text/plain": [
       "{'d': 2, 's': 2, 'n': 3, 'j': 1, 'f': 1, 'a': 1, 'c': 1, 'v': 1, 'b': 1}"
      ]
     },
     "execution_count": 8,
     "metadata": {},
     "output_type": "execute_result"
    }
   ],
   "source": [
    "string1(\"dsnjdfsanncvb\")"
   ]
  },
  {
   "cell_type": "code",
   "execution_count": 11,
   "id": "8a58dd9b",
   "metadata": {},
   "outputs": [],
   "source": [
    "def newstring(string1):\n",
    "    if (len(string1)<2):\n",
    "        return ' '\n",
    "    return string1[0:2]+string1[-2::]"
   ]
  },
  {
   "cell_type": "code",
   "execution_count": 13,
   "id": "719d135e",
   "metadata": {},
   "outputs": [
    {
     "data": {
      "text/plain": [
       "'nsns'"
      ]
     },
     "execution_count": 13,
     "metadata": {},
     "output_type": "execute_result"
    }
   ],
   "source": [
    "newstring(\"ns\")"
   ]
  },
  {
   "cell_type": "code",
   "execution_count": 26,
   "id": "53350e51",
   "metadata": {},
   "outputs": [],
   "source": [
    "def characterrreplace(string1):\n",
    "    string2=\" \"\n",
    "    for i in string1:\n",
    "        if i in string2:\n",
    "            string2=string2+'$'\n",
    "        else:\n",
    "            string2=string2+i\n",
    "    return string2"
   ]
  },
  {
   "cell_type": "code",
   "execution_count": 27,
   "id": "67b35d05",
   "metadata": {},
   "outputs": [
    {
     "data": {
      "text/plain": [
       "' ndfjas$$'"
      ]
     },
     "execution_count": 27,
     "metadata": {},
     "output_type": "execute_result"
    }
   ],
   "source": [
    "characterrreplace(\"ndfjasas\")"
   ]
  },
  {
   "cell_type": "code",
   "execution_count": 42,
   "id": "bc842ec1",
   "metadata": {},
   "outputs": [],
   "source": [
    "def characterrreplace(string1):\n",
    "    string2=\" \"\n",
    "    for i in string1:\n",
    "        if i in string1[0]:\n",
    "            string2=string2+'$'\n",
    "        else:\n",
    "            string2=string2+i\n",
    "    return string2"
   ]
  },
  {
   "cell_type": "code",
   "execution_count": 40,
   "id": "e7bb547b",
   "metadata": {},
   "outputs": [
    {
     "data": {
      "text/plain": [
       "' sdbjskdj'"
      ]
     },
     "execution_count": 40,
     "metadata": {},
     "output_type": "execute_result"
    }
   ],
   "source": [
    "characterrreplace(\"sdbjskdj\")"
   ]
  },
  {
   "cell_type": "code",
   "execution_count": 66,
   "id": "800b6f1f",
   "metadata": {},
   "outputs": [],
   "source": [
    "def string1(string2):\n",
    "    char=string2[0]\n",
    "    print(char)\n",
    "    string1=string2.replace(char,\"$\")\n",
    "    string1= char+string1[1:]\n",
    "    return string1"
   ]
  },
  {
   "cell_type": "code",
   "execution_count": 67,
   "id": "37b1fafc",
   "metadata": {},
   "outputs": [
    {
     "name": "stdout",
     "output_type": "stream",
     "text": [
      "d\n"
     ]
    },
    {
     "data": {
      "text/plain": [
       "'dhfje$e'"
      ]
     },
     "execution_count": 67,
     "metadata": {},
     "output_type": "execute_result"
    }
   ],
   "source": [
    "string1(\"dhfjede\")"
   ]
  },
  {
   "cell_type": "code",
   "execution_count": null,
   "id": "efafd20e",
   "metadata": {},
   "outputs": [],
   "source": []
  }
 ],
 "metadata": {
  "kernelspec": {
   "display_name": "Python 3 (ipykernel)",
   "language": "python",
   "name": "python3"
  },
  "language_info": {
   "codemirror_mode": {
    "name": "ipython",
    "version": 3
   },
   "file_extension": ".py",
   "mimetype": "text/x-python",
   "name": "python",
   "nbconvert_exporter": "python",
   "pygments_lexer": "ipython3",
   "version": "3.9.12"
  }
 },
 "nbformat": 4,
 "nbformat_minor": 5
}
