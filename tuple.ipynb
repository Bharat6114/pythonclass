{
 "cells": [
  {
   "cell_type": "code",
   "execution_count": 1,
   "id": "020804cb",
   "metadata": {},
   "outputs": [],
   "source": [
    "#tuple is collection of data different type and similar type of data\n",
    "#tuple is immutable sequence\n",
    "#tuple is ordered collection\n",
    "#tuple is hasable so can be used as key of dictionary\n",
    "#tuple can contatain duplicate\n",
    "#tuple can be accessed by index\n",
    "#tuple is defined as tuple1=(1,'n')\n",
    "#tuple always enclosed by ()\n",
    "#tuple also defined as tuple1=tuple()"
   ]
  },
  {
   "cell_type": "code",
   "execution_count": 4,
   "id": "c3677e78",
   "metadata": {},
   "outputs": [],
   "source": [
    "tuple1=(1,2,3,'l')"
   ]
  },
  {
   "cell_type": "code",
   "execution_count": 5,
   "id": "91048d49",
   "metadata": {},
   "outputs": [
    {
     "data": {
      "text/plain": [
       "tuple"
      ]
     },
     "execution_count": 5,
     "metadata": {},
     "output_type": "execute_result"
    }
   ],
   "source": [
    "type(tuple1)"
   ]
  },
  {
   "cell_type": "code",
   "execution_count": 6,
   "id": "6fd6be21",
   "metadata": {},
   "outputs": [
    {
     "data": {
      "text/plain": [
       "2"
      ]
     },
     "execution_count": 6,
     "metadata": {},
     "output_type": "execute_result"
    }
   ],
   "source": [
    "tuple1.index(3) #to get index of element 3"
   ]
  },
  {
   "cell_type": "code",
   "execution_count": null,
   "id": "908abb19",
   "metadata": {},
   "outputs": [],
   "source": []
  },
  {
   "cell_type": "code",
   "execution_count": null,
   "id": "6157eb69",
   "metadata": {},
   "outputs": [],
   "source": []
  },
  {
   "cell_type": "code",
   "execution_count": null,
   "id": "b47eea02",
   "metadata": {},
   "outputs": [],
   "source": []
  },
  {
   "cell_type": "code",
   "execution_count": null,
   "id": "520648c5",
   "metadata": {},
   "outputs": [],
   "source": []
  },
  {
   "cell_type": "code",
   "execution_count": null,
   "id": "2d20f031",
   "metadata": {},
   "outputs": [],
   "source": []
  }
 ],
 "metadata": {
  "kernelspec": {
   "display_name": "Python 3 (ipykernel)",
   "language": "python",
   "name": "python3"
  },
  "language_info": {
   "codemirror_mode": {
    "name": "ipython",
    "version": 3
   },
   "file_extension": ".py",
   "mimetype": "text/x-python",
   "name": "python",
   "nbconvert_exporter": "python",
   "pygments_lexer": "ipython3",
   "version": "3.9.12"
  }
 },
 "nbformat": 4,
 "nbformat_minor": 5
}
