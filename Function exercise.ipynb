{
 "cells": [
  {
   "cell_type": "code",
   "execution_count": null,
   "id": "f88abea6",
   "metadata": {},
   "outputs": [],
   "source": []
  },
  {
   "cell_type": "code",
   "execution_count": 1,
   "id": "7cbf820e",
   "metadata": {},
   "outputs": [],
   "source": [
    "def even(list1):\n",
    "    for i in list1:\n",
    "        if(i%2==0):\n",
    "            print(i)\n",
    "        else:\n",
    "            pass"
   ]
  },
  {
   "cell_type": "code",
   "execution_count": null,
   "id": "a470ec10",
   "metadata": {},
   "outputs": [],
   "source": [
    "even(1)"
   ]
  },
  {
   "cell_type": "markdown",
   "id": "32d20896",
   "metadata": {},
   "source": [
    "# Write a Python function to find the Max of three numbers. Go to the editor"
   ]
  },
  {
   "cell_type": "code",
   "execution_count": 2,
   "id": "d5c86924",
   "metadata": {},
   "outputs": [],
   "source": [
    "def max(a,b,c):\n",
    "    if(a>b and a>c):\n",
    "        print(\"maximum number is a :\",a)\n",
    "    elif(b>a and b>c):\n",
    "        print(\"maximum number is b :\",b)\n",
    "    else:\n",
    "        print(\"maximum number is c :\",c)"
   ]
  },
  {
   "cell_type": "code",
   "execution_count": 4,
   "id": "ee4990b0",
   "metadata": {},
   "outputs": [
    {
     "name": "stdout",
     "output_type": "stream",
     "text": [
      "maximum number is c : 30\n"
     ]
    }
   ],
   "source": [
    "max(10,20,30)"
   ]
  },
  {
   "cell_type": "markdown",
   "id": "7de83139",
   "metadata": {},
   "source": [
    "# Write a Python function to sum all the numbers in a list."
   ]
  },
  {
   "cell_type": "code",
   "execution_count": 6,
   "id": "713b3d96",
   "metadata": {},
   "outputs": [],
   "source": [
    "def sum(list1):\n",
    "    sum=0\n",
    "    for i in list1:\n",
    "        sum=sum+i\n",
    "    print(\"the sum is :\",sum)"
   ]
  },
  {
   "cell_type": "code",
   "execution_count": 7,
   "id": "94dedaf8",
   "metadata": {},
   "outputs": [
    {
     "name": "stdout",
     "output_type": "stream",
     "text": [
      "the sum is : 15\n"
     ]
    }
   ],
   "source": [
    "sum([1,2,3,4,5])"
   ]
  },
  {
   "cell_type": "code",
   "execution_count": 9,
   "id": "765c9e67",
   "metadata": {},
   "outputs": [],
   "source": [
    "#Write a Python function to multiply all the numbers in a list. "
   ]
  },
  {
   "cell_type": "code",
   "execution_count": 14,
   "id": "c6bfc43d",
   "metadata": {},
   "outputs": [],
   "source": [
    "def multiply(list1):\n",
    "    total=1\n",
    "    for i in list1:\n",
    "        total=total*i\n",
    "    print(\"the multiplication of all is\",total)"
   ]
  },
  {
   "cell_type": "code",
   "execution_count": 15,
   "id": "8ea7acab",
   "metadata": {},
   "outputs": [
    {
     "name": "stdout",
     "output_type": "stream",
     "text": [
      "the multiplication of all is 120\n"
     ]
    }
   ],
   "source": [
    "multiply([1,2,3,4,5])"
   ]
  },
  {
   "cell_type": "code",
   "execution_count": null,
   "id": "e2e06cf3",
   "metadata": {},
   "outputs": [],
   "source": [
    "#Write a Python program to reverse a string"
   ]
  },
  {
   "cell_type": "code",
   "execution_count": 18,
   "id": "fd94bb94",
   "metadata": {},
   "outputs": [],
   "source": [
    "def reverse(string1):\n",
    "    string2=''\n",
    "    length=len(string1)\n",
    "    for i in string1:\n",
    "        string2=string2+string1[length-1]\n",
    "        length=length-1\n",
    "    print(\"the reverse string is\",string2)"
   ]
  },
  {
   "cell_type": "code",
   "execution_count": 17,
   "id": "01e3f63c",
   "metadata": {},
   "outputs": [
    {
     "name": "stdout",
     "output_type": "stream",
     "text": [
      "the reverse string is tarahb\n"
     ]
    }
   ],
   "source": [
    "reverse('bharat')"
   ]
  },
  {
   "cell_type": "code",
   "execution_count": 19,
   "id": "6e00fc6f",
   "metadata": {},
   "outputs": [],
   "source": [
    "def reverse(string1):\n",
    "    string2=string1[::-1]\n",
    "    print(string2)"
   ]
  },
  {
   "cell_type": "code",
   "execution_count": 20,
   "id": "d86d7d00",
   "metadata": {},
   "outputs": [
    {
     "name": "stdout",
     "output_type": "stream",
     "text": [
      "tarahb\n"
     ]
    }
   ],
   "source": [
    "reverse('bharat')"
   ]
  },
  {
   "cell_type": "markdown",
   "id": "11975c80",
   "metadata": {},
   "source": [
    "# Write a Python function to calculate the factorial of a number (a non-negative integer). The function accepts the number as an argument."
   ]
  },
  {
   "cell_type": "code",
   "execution_count": 22,
   "id": "06c7158e",
   "metadata": {},
   "outputs": [],
   "source": [
    "def factorial(num):\n",
    "    if(num<0):\n",
    "        print(\"please enter valid input\")\n",
    "    elif(num<2):\n",
    "        return 1\n",
    "    else:\n",
    "        return num*factorial(num-1)\n",
    "    "
   ]
  },
  {
   "cell_type": "code",
   "execution_count": 25,
   "id": "6a48f012",
   "metadata": {},
   "outputs": [
    {
     "name": "stdout",
     "output_type": "stream",
     "text": [
      "please enter valid input\n"
     ]
    },
    {
     "data": {
      "text/plain": [
       "120"
      ]
     },
     "execution_count": 25,
     "metadata": {},
     "output_type": "execute_result"
    }
   ],
   "source": [
    "factorial(-10)\n",
    "factorial(5)"
   ]
  },
  {
   "cell_type": "code",
   "execution_count": 26,
   "id": "7d65fce4",
   "metadata": {},
   "outputs": [],
   "source": [
    " #Write a Python function to check whether a number falls in a given range."
   ]
  },
  {
   "cell_type": "code",
   "execution_count": 27,
   "id": "c2e5bb99",
   "metadata": {},
   "outputs": [],
   "source": [
    "def check(num):\n",
    "    if num in range(100):\n",
    "        print(\"the number is in range\")\n",
    "    else:\n",
    "        print(\"the number is not in range\")"
   ]
  },
  {
   "cell_type": "code",
   "execution_count": 29,
   "id": "49a12a0c",
   "metadata": {},
   "outputs": [
    {
     "name": "stdout",
     "output_type": "stream",
     "text": [
      "the number is in range\n",
      "the number is not in range\n"
     ]
    }
   ],
   "source": [
    "check(12)\n",
    "check(122)"
   ]
  },
  {
   "cell_type": "code",
   "execution_count": 30,
   "id": "e3c21e9d",
   "metadata": {},
   "outputs": [],
   "source": [
    " #Write a Python function that accepts a string and calculate the number of upper case letters and lower case letters."
   ]
  },
  {
   "cell_type": "code",
   "execution_count": 65,
   "id": "69c18e9c",
   "metadata": {},
   "outputs": [],
   "source": [
    "def count(string1):\n",
    "    upper=0\n",
    "    lower=0\n",
    "    for i in string1:\n",
    "        if i.isupper():\n",
    "            upper=upper+1\n",
    "        elif i.islower():\n",
    "            lower=lower+1\n",
    "        else:\n",
    "            pass\n",
    "    print(\"the upper letters are:\",upper)\n",
    "    print(\"the lower letter are :\",lower)"
   ]
  },
  {
   "cell_type": "code",
   "execution_count": 64,
   "id": "8a05e7f7",
   "metadata": {},
   "outputs": [
    {
     "name": "stdout",
     "output_type": "stream",
     "text": [
      "the upper letters are: 6\n",
      "the lower letter are : 5\n"
     ]
    }
   ],
   "source": [
    "count(\"hello PYTHON\")"
   ]
  },
  {
   "cell_type": "code",
   "execution_count": 66,
   "id": "7a86107c",
   "metadata": {},
   "outputs": [],
   "source": [
    "#Write a Python function that takes a list and returns a new list with unique elements of the first list."
   ]
  },
  {
   "cell_type": "code",
   "execution_count": 68,
   "id": "22d7c2e1",
   "metadata": {},
   "outputs": [],
   "source": [
    "def unique(list1):\n",
    "    list2=[]\n",
    "    for i in list1:\n",
    "        if i not in list2:\n",
    "            list2.append(i)\n",
    "    print(list2)\n",
    "        \n",
    "    "
   ]
  },
  {
   "cell_type": "code",
   "execution_count": 69,
   "id": "2adf9b3c",
   "metadata": {},
   "outputs": [
    {
     "name": "stdout",
     "output_type": "stream",
     "text": [
      "[1, 2, 3, 4]\n"
     ]
    }
   ],
   "source": [
    "unique([1,2,3,4,4,4])"
   ]
  },
  {
   "cell_type": "code",
   "execution_count": 72,
   "id": "5bb84ca1",
   "metadata": {},
   "outputs": [],
   "source": [
    "def uniqu(list1):\n",
    "    list2=list(set(list1))\n",
    "    print(list2)"
   ]
  },
  {
   "cell_type": "code",
   "execution_count": 73,
   "id": "3b0a0f00",
   "metadata": {},
   "outputs": [
    {
     "name": "stdout",
     "output_type": "stream",
     "text": [
      "[1, 2, 3, 4]\n"
     ]
    }
   ],
   "source": [
    "uniqu([1,2,3,3,3,4])"
   ]
  },
  {
   "cell_type": "code",
   "execution_count": 74,
   "id": "1f744591",
   "metadata": {},
   "outputs": [],
   "source": [
    "#Write a Python function that takes a number as a parameter and check the number is prime or not. "
   ]
  },
  {
   "cell_type": "code",
   "execution_count": 75,
   "id": "906ccc03",
   "metadata": {},
   "outputs": [],
   "source": [
    "def prime(num):\n",
    "    if(num==1):\n",
    "        return False\n",
    "    elif(num==2):\n",
    "        return False\n",
    "    else:\n",
    "        for i in range(3,num):\n",
    "            if(num%i==0):\n",
    "                return False\n",
    "        else:\n",
    "            return True\n",
    "    "
   ]
  },
  {
   "cell_type": "code",
   "execution_count": 79,
   "id": "c57ec55d",
   "metadata": {},
   "outputs": [
    {
     "name": "stdout",
     "output_type": "stream",
     "text": [
      "True\n",
      "False\n"
     ]
    }
   ],
   "source": [
    "print(prime(11))\n",
    "print(prime(9))"
   ]
  },
  {
   "cell_type": "code",
   "execution_count": 80,
   "id": "ded51920",
   "metadata": {},
   "outputs": [],
   "source": [
    "#Write a Python program to print the even numbers from a given list.Except[4,6,8]"
   ]
  },
  {
   "cell_type": "code",
   "execution_count": 97,
   "id": "8bdfb3c7",
   "metadata": {},
   "outputs": [],
   "source": [
    "def even(list1):\n",
    "    for i in list1:\n",
    "        if(i%2==0):\n",
    "            if(i==4 or i==6 or i==8):\n",
    "                continue\n",
    "            print(i)\n",
    "        else:\n",
    "            pass"
   ]
  },
  {
   "cell_type": "code",
   "execution_count": 99,
   "id": "fbe776fa",
   "metadata": {},
   "outputs": [
    {
     "name": "stdout",
     "output_type": "stream",
     "text": [
      "2\n",
      "10\n",
      "20\n"
     ]
    }
   ],
   "source": [
    "even([1,2,3,4,5,6,67,7,8,89,9,10,20])"
   ]
  },
  {
   "cell_type": "code",
   "execution_count": 100,
   "id": "8bdfeac8",
   "metadata": {},
   "outputs": [],
   "source": [
    "#Write a Python function to check whether a number is perfect or not."
   ]
  },
  {
   "cell_type": "code",
   "execution_count": 110,
   "id": "a1703c3d",
   "metadata": {},
   "outputs": [],
   "source": [
    "def perfect(num):\n",
    "    sum=0\n",
    "    for i in range(1,num):\n",
    "        if(num%i==0):\n",
    "            sum=sum+i\n",
    "        else:\n",
    "            pass\n",
    "    if(num==sum):\n",
    "        return True\n",
    "    else:\n",
    "        return False"
   ]
  },
  {
   "cell_type": "code",
   "execution_count": 112,
   "id": "8472a802",
   "metadata": {},
   "outputs": [
    {
     "name": "stdout",
     "output_type": "stream",
     "text": [
      "True\n",
      "False\n"
     ]
    }
   ],
   "source": [
    "print(perfect(6))\n",
    "print(perfect(9))"
   ]
  },
  {
   "cell_type": "code",
   "execution_count": 113,
   "id": "4680baba",
   "metadata": {},
   "outputs": [],
   "source": [
    "#Write a Python function that checks whether a passed string is palindrome or not."
   ]
  },
  {
   "cell_type": "code",
   "execution_count": 114,
   "id": "73796945",
   "metadata": {},
   "outputs": [],
   "source": [
    "def palendrom(string1):\n",
    "    string2=''\n",
    "    length=len(string1)\n",
    "    for i in string1:\n",
    "        string2=string2+string1[length-1]\n",
    "        length=length-1\n",
    "    if(string2==string1):\n",
    "        return True\n",
    "    else:\n",
    "        return False"
   ]
  },
  {
   "cell_type": "code",
   "execution_count": 115,
   "id": "b2c8be22",
   "metadata": {},
   "outputs": [
    {
     "name": "stdout",
     "output_type": "stream",
     "text": [
      "False\n",
      "True\n"
     ]
    }
   ],
   "source": [
    "print(palendrom('papa'))\n",
    "print(palendrom('lal'))"
   ]
  },
  {
   "cell_type": "markdown",
   "id": "2e8fd066",
   "metadata": {},
   "source": [
    "# Write a Python program that accepts a hyphen-separated sequence of words as input and printsthe words in a hyphen-separated sequence after sorting them alphabetically."
   ]
  },
  {
   "cell_type": "code",
   "execution_count": 19,
   "id": "465e8167",
   "metadata": {},
   "outputs": [
    {
     "name": "stdout",
     "output_type": "stream",
     "text": [
      "wdhfds-dsgh-Aa-dshjha-aaasdfd-jhcdfj\n",
      "Aa-aaasdfd-dsgh-dshjha-jhcdfj-wdhfds\n"
     ]
    }
   ],
   "source": [
    "data=[x for x in input().split('-')]\n",
    "data.sort()\n",
    "print('-'.join(data))"
   ]
  },
  {
   "cell_type": "code",
   "execution_count": null,
   "id": "b1ca0fe8",
   "metadata": {},
   "outputs": [],
   "source": [
    "#Write a Python function to create and print a list where the values are square of numbers between 1 and 30 (both included)."
   ]
  },
  {
   "cell_type": "code",
   "execution_count": 25,
   "id": "43e7f20a",
   "metadata": {},
   "outputs": [],
   "source": [
    "def squares():\n",
    "    for i in range(1,31):\n",
    "        print(i**2)\n",
    "    "
   ]
  },
  {
   "cell_type": "code",
   "execution_count": 24,
   "id": "5ee607ec",
   "metadata": {},
   "outputs": [
    {
     "name": "stdout",
     "output_type": "stream",
     "text": [
      "1\n",
      "4\n",
      "9\n",
      "16\n",
      "25\n",
      "36\n",
      "49\n",
      "64\n",
      "81\n",
      "100\n",
      "121\n",
      "144\n",
      "169\n",
      "196\n",
      "225\n",
      "256\n",
      "289\n",
      "324\n",
      "361\n",
      "400\n",
      "441\n",
      "484\n",
      "529\n",
      "576\n",
      "625\n",
      "676\n",
      "729\n",
      "784\n",
      "841\n",
      "900\n"
     ]
    }
   ],
   "source": [
    "squares()"
   ]
  },
  {
   "cell_type": "code",
   "execution_count": 22,
   "id": "252bdd20",
   "metadata": {},
   "outputs": [],
   "source": [
    "#Write a Python program to detect the number of local variables declared in a function."
   ]
  },
  {
   "cell_type": "code",
   "execution_count": 33,
   "id": "75d96764",
   "metadata": {},
   "outputs": [
    {
     "name": "stdout",
     "output_type": "stream",
     "text": [
      "1\n"
     ]
    }
   ],
   "source": [
    "print(squares.__code__.co_nlocals)"
   ]
  }
 ],
 "metadata": {
  "kernelspec": {
   "display_name": "Python 3 (ipykernel)",
   "language": "python",
   "name": "python3"
  },
  "language_info": {
   "codemirror_mode": {
    "name": "ipython",
    "version": 3
   },
   "file_extension": ".py",
   "mimetype": "text/x-python",
   "name": "python",
   "nbconvert_exporter": "python",
   "pygments_lexer": "ipython3",
   "version": "3.9.13"
  }
 },
 "nbformat": 4,
 "nbformat_minor": 5
}
