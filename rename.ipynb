{
 "cells": [
  {
   "cell_type": "code",
   "execution_count": 3,
   "metadata": {},
   "outputs": [],
   "source": [
    "import os"
   ]
  },
  {
   "cell_type": "code",
   "execution_count": 4,
   "metadata": {},
   "outputs": [
    {
     "data": {
      "text/plain": [
       "'C:\\\\Users\\\\Bharat Bhandari\\\\PycharmProjects\\\\class'"
      ]
     },
     "execution_count": 4,
     "metadata": {},
     "output_type": "execute_result"
    }
   ],
   "source": [
    "os.getcwd()"
   ]
  },
  {
   "cell_type": "code",
   "execution_count": 5,
   "metadata": {},
   "outputs": [],
   "source": [
    "os.chdir(\"C:\\\\Users\\\\Bharat Bhandari\\\\Desktop\\\\phopto\\\\\")"
   ]
  },
  {
   "cell_type": "code",
   "execution_count": 6,
   "metadata": {},
   "outputs": [],
   "source": [
    "s=\"file.png.jpg\""
   ]
  },
  {
   "cell_type": "code",
   "execution_count": 7,
   "metadata": {},
   "outputs": [
    {
     "data": {
      "text/plain": [
       "['file.png.jpg']"
      ]
     },
     "execution_count": 7,
     "metadata": {},
     "output_type": "execute_result"
    }
   ],
   "source": [
    "s.split()"
   ]
  },
  {
   "cell_type": "code",
   "execution_count": 8,
   "metadata": {},
   "outputs": [
    {
     "data": {
      "text/plain": [
       "'jpg'"
      ]
     },
     "execution_count": 8,
     "metadata": {},
     "output_type": "execute_result"
    }
   ],
   "source": [
    "s.split(\".\")[-1]"
   ]
  },
  {
   "cell_type": "code",
   "execution_count": 9,
   "metadata": {},
   "outputs": [
    {
     "data": {
      "text/plain": [
       "['ktm_2019_dec_0.jpg',\n",
       " 'ktm_2019_dec_1.jpg',\n",
       " 'ktm_2019_dec_10.jpg',\n",
       " 'ktm_2019_dec_11.jpg',\n",
       " 'ktm_2019_dec_12.jpg',\n",
       " 'ktm_2019_dec_13.jpg',\n",
       " 'ktm_2019_dec_14.jpg',\n",
       " 'ktm_2019_dec_15.jpg',\n",
       " 'ktm_2019_dec_16.jpg',\n",
       " 'ktm_2019_dec_17.jpg',\n",
       " 'ktm_2019_dec_18.jpg',\n",
       " 'ktm_2019_dec_19.jpg',\n",
       " 'ktm_2019_dec_2.jpg',\n",
       " 'ktm_2019_dec_20.jpg',\n",
       " 'ktm_2019_dec_21.jpg',\n",
       " 'ktm_2019_dec_22.jpg',\n",
       " 'ktm_2019_dec_23.jpg',\n",
       " 'ktm_2019_dec_24.jpg',\n",
       " 'ktm_2019_dec_25.jpg',\n",
       " 'ktm_2019_dec_26.jpg',\n",
       " 'ktm_2019_dec_27.jpg',\n",
       " 'ktm_2019_dec_28.jpg',\n",
       " 'ktm_2019_dec_29.jpg',\n",
       " 'ktm_2019_dec_3.jpg',\n",
       " 'ktm_2019_dec_30.jpg',\n",
       " 'ktm_2019_dec_31.jpg',\n",
       " 'ktm_2019_dec_32.jpg',\n",
       " 'ktm_2019_dec_33.jpg',\n",
       " 'ktm_2019_dec_34.jpg',\n",
       " 'ktm_2019_dec_35.jpg',\n",
       " 'ktm_2019_dec_36.jpg',\n",
       " 'ktm_2019_dec_37.jpg',\n",
       " 'ktm_2019_dec_38.jpg',\n",
       " 'ktm_2019_dec_39.jpg',\n",
       " 'ktm_2019_dec_4.jpg',\n",
       " 'ktm_2019_dec_40.jpg',\n",
       " 'ktm_2019_dec_41.jpg',\n",
       " 'ktm_2019_dec_42.jpg',\n",
       " 'ktm_2019_dec_43.jpg',\n",
       " 'ktm_2019_dec_44.jpg',\n",
       " 'ktm_2019_dec_45.jpg',\n",
       " 'ktm_2019_dec_46.jpg',\n",
       " 'ktm_2019_dec_47.jpg',\n",
       " 'ktm_2019_dec_48.jpg',\n",
       " 'ktm_2019_dec_49.jpg',\n",
       " 'ktm_2019_dec_5.jpg',\n",
       " 'ktm_2019_dec_50.jpg',\n",
       " 'ktm_2019_dec_51.jpg',\n",
       " 'ktm_2019_dec_52.jpg',\n",
       " 'ktm_2019_dec_53.jpg',\n",
       " 'ktm_2019_dec_54.jpg',\n",
       " 'ktm_2019_dec_55.jpg',\n",
       " 'ktm_2019_dec_56.jpg',\n",
       " 'ktm_2019_dec_57.jpg',\n",
       " 'ktm_2019_dec_58.jpg',\n",
       " 'ktm_2019_dec_59.jpg',\n",
       " 'ktm_2019_dec_6.jpg',\n",
       " 'ktm_2019_dec_7.jpg',\n",
       " 'ktm_2019_dec_8.jpg',\n",
       " 'ktm_2019_dec_9.jpg']"
      ]
     },
     "execution_count": 9,
     "metadata": {},
     "output_type": "execute_result"
    }
   ],
   "source": [
    "os.listdir()"
   ]
  },
  {
   "cell_type": "code",
   "execution_count": 10,
   "metadata": {},
   "outputs": [],
   "source": [
    "for count,file in enumerate(os.listdir()):\n",
    "    ext= file.split(\".\")[-1]\n",
    "    os.rename(file,\"drn_2019_dec_{}.{}\".format(count,ext))"
   ]
  },
  {
   "cell_type": "code",
   "execution_count": 11,
   "metadata": {},
   "outputs": [
    {
     "data": {
      "text/plain": [
       "['drn_2019_dec_0.jpg',\n",
       " 'drn_2019_dec_1.jpg',\n",
       " 'drn_2019_dec_10.jpg',\n",
       " 'drn_2019_dec_11.jpg',\n",
       " 'drn_2019_dec_12.jpg',\n",
       " 'drn_2019_dec_13.jpg',\n",
       " 'drn_2019_dec_14.jpg',\n",
       " 'drn_2019_dec_15.jpg',\n",
       " 'drn_2019_dec_16.jpg',\n",
       " 'drn_2019_dec_17.jpg',\n",
       " 'drn_2019_dec_18.jpg',\n",
       " 'drn_2019_dec_19.jpg',\n",
       " 'drn_2019_dec_2.jpg',\n",
       " 'drn_2019_dec_20.jpg',\n",
       " 'drn_2019_dec_21.jpg',\n",
       " 'drn_2019_dec_22.jpg',\n",
       " 'drn_2019_dec_23.jpg',\n",
       " 'drn_2019_dec_24.jpg',\n",
       " 'drn_2019_dec_25.jpg',\n",
       " 'drn_2019_dec_26.jpg',\n",
       " 'drn_2019_dec_27.jpg',\n",
       " 'drn_2019_dec_28.jpg',\n",
       " 'drn_2019_dec_29.jpg',\n",
       " 'drn_2019_dec_3.jpg',\n",
       " 'drn_2019_dec_30.jpg',\n",
       " 'drn_2019_dec_31.jpg',\n",
       " 'drn_2019_dec_32.jpg',\n",
       " 'drn_2019_dec_33.jpg',\n",
       " 'drn_2019_dec_34.jpg',\n",
       " 'drn_2019_dec_35.jpg',\n",
       " 'drn_2019_dec_36.jpg',\n",
       " 'drn_2019_dec_37.jpg',\n",
       " 'drn_2019_dec_38.jpg',\n",
       " 'drn_2019_dec_39.jpg',\n",
       " 'drn_2019_dec_4.jpg',\n",
       " 'drn_2019_dec_40.jpg',\n",
       " 'drn_2019_dec_41.jpg',\n",
       " 'drn_2019_dec_42.jpg',\n",
       " 'drn_2019_dec_43.jpg',\n",
       " 'drn_2019_dec_44.jpg',\n",
       " 'drn_2019_dec_45.jpg',\n",
       " 'drn_2019_dec_46.jpg',\n",
       " 'drn_2019_dec_47.jpg',\n",
       " 'drn_2019_dec_48.jpg',\n",
       " 'drn_2019_dec_49.jpg',\n",
       " 'drn_2019_dec_5.jpg',\n",
       " 'drn_2019_dec_50.jpg',\n",
       " 'drn_2019_dec_51.jpg',\n",
       " 'drn_2019_dec_52.jpg',\n",
       " 'drn_2019_dec_53.jpg',\n",
       " 'drn_2019_dec_54.jpg',\n",
       " 'drn_2019_dec_55.jpg',\n",
       " 'drn_2019_dec_56.jpg',\n",
       " 'drn_2019_dec_57.jpg',\n",
       " 'drn_2019_dec_58.jpg',\n",
       " 'drn_2019_dec_59.jpg',\n",
       " 'drn_2019_dec_6.jpg',\n",
       " 'drn_2019_dec_7.jpg',\n",
       " 'drn_2019_dec_8.jpg',\n",
       " 'drn_2019_dec_9.jpg']"
      ]
     },
     "execution_count": 11,
     "metadata": {},
     "output_type": "execute_result"
    }
   ],
   "source": [
    "os.listdir()"
   ]
  }
 ],
 "metadata": {
  "kernelspec": {
   "display_name": "Python 3",
   "language": "python",
   "name": "python3"
  },
  "language_info": {
   "codemirror_mode": {
    "name": "ipython",
    "version": 3
   },
   "file_extension": ".py",
   "mimetype": "text/x-python",
   "name": "python",
   "nbconvert_exporter": "python",
   "pygments_lexer": "ipython3",
   "version": "3.7.4"
  }
 },
 "nbformat": 4,
 "nbformat_minor": 2
}
