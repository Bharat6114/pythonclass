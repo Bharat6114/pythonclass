{
 "cells": [
  {
   "cell_type": "code",
   "execution_count": null,
   "id": "c3527404",
   "metadata": {},
   "outputs": [],
   "source": []
  },
  {
   "cell_type": "code",
   "execution_count": 1,
   "id": "7cbf820e",
   "metadata": {},
   "outputs": [],
   "source": [
    "def even(list1):\n",
    "    for i in list1:\n",
    "        if(i%2==0):\n",
    "            print(i)\n",
    "        else:\n",
    "            pass"
   ]
  },
  {
   "cell_type": "code",
   "execution_count": null,
   "id": "a470ec10",
   "metadata": {},
   "outputs": [],
   "source": [
    "even(1)"
   ]
  },
  {
   "cell_type": "markdown",
   "id": "c88d818f",
   "metadata": {},
   "source": [
    "# Write a Python function to find the Max of three numbers. Go to the editor"
   ]
  },
  {
   "cell_type": "code",
   "execution_count": 2,
   "id": "d5c86924",
   "metadata": {},
   "outputs": [],
   "source": [
    "def max(a,b,c):\n",
    "    if(a>b and a>c):\n",
    "        print(\"maximum number is a :\",a)\n",
    "    elif(b>a and b>c):\n",
    "        print(\"maximum number is b :\",b)\n",
    "    else:\n",
    "        print(\"maximum number is c :\",c)"
   ]
  },
  {
   "cell_type": "code",
   "execution_count": 4,
   "id": "00d37d9b",
   "metadata": {},
   "outputs": [
    {
     "name": "stdout",
     "output_type": "stream",
     "text": [
      "maximum number is c : 30\n"
     ]
    }
   ],
   "source": [
    "max(10,20,30)"
   ]
  },
  {
   "cell_type": "markdown",
   "id": "87d23dc1",
   "metadata": {},
   "source": [
    "# Write a Python function to sum all the numbers in a list."
   ]
  },
  {
   "cell_type": "code",
   "execution_count": 6,
   "id": "8a22f1e1",
   "metadata": {},
   "outputs": [],
   "source": [
    "def sum(list1):\n",
    "    sum=0\n",
    "    for i in list1:\n",
    "        sum=sum+i\n",
    "    print(\"the sum is :\",sum)"
   ]
  },
  {
   "cell_type": "code",
   "execution_count": 7,
   "id": "9034d61f",
   "metadata": {},
   "outputs": [
    {
     "name": "stdout",
     "output_type": "stream",
     "text": [
      "the sum is : 15\n"
     ]
    }
   ],
   "source": [
    "sum([1,2,3,4,5])"
   ]
  },
  {
   "cell_type": "code",
   "execution_count": 9,
   "id": "5246fc3a",
   "metadata": {},
   "outputs": [],
   "source": [
    "#Write a Python function to multiply all the numbers in a list. "
   ]
  },
  {
   "cell_type": "code",
   "execution_count": 14,
   "id": "9dce4ece",
   "metadata": {},
   "outputs": [],
   "source": [
    "def multiply(list1):\n",
    "    total=1\n",
    "    for i in list1:\n",
    "        total=total*i\n",
    "    print(\"the multiplication of all is\",total)"
   ]
  },
  {
   "cell_type": "code",
   "execution_count": 15,
   "id": "c021f253",
   "metadata": {},
   "outputs": [
    {
     "name": "stdout",
     "output_type": "stream",
     "text": [
      "the multiplication of all is 120\n"
     ]
    }
   ],
   "source": [
    "multiply([1,2,3,4,5])"
   ]
  },
  {
   "cell_type": "code",
   "execution_count": null,
   "id": "78a6c4a7",
   "metadata": {},
   "outputs": [],
   "source": [
    "#Write a Python program to reverse a string"
   ]
  },
  {
   "cell_type": "code",
   "execution_count": 18,
   "id": "b600e629",
   "metadata": {},
   "outputs": [],
   "source": [
    "def reverse(string1):\n",
    "    string2=''\n",
    "    length=len(string1)\n",
    "    for i in string1:\n",
    "        string2=string2+string1[length-1]\n",
    "        length=length-1\n",
    "    print(\"the reverse string is\",string2)"
   ]
  },
  {
   "cell_type": "code",
   "execution_count": 17,
   "id": "233fae4a",
   "metadata": {},
   "outputs": [
    {
     "name": "stdout",
     "output_type": "stream",
     "text": [
      "the reverse string is tarahb\n"
     ]
    }
   ],
   "source": [
    "reverse('bharat')"
   ]
  },
  {
   "cell_type": "code",
   "execution_count": null,
   "id": "61e0308b",
   "metadata": {},
   "outputs": [],
   "source": []
  },
  {
   "cell_type": "code",
   "execution_count": null,
   "id": "7ea031c4",
   "metadata": {},
   "outputs": [],
   "source": []
  },
  {
   "cell_type": "code",
   "execution_count": null,
   "id": "7da501a0",
   "metadata": {},
   "outputs": [],
   "source": []
  },
  {
   "cell_type": "code",
   "execution_count": null,
   "id": "29f1b30c",
   "metadata": {},
   "outputs": [],
   "source": []
  },
  {
   "cell_type": "code",
   "execution_count": null,
   "id": "f216eada",
   "metadata": {},
   "outputs": [],
   "source": []
  },
  {
   "cell_type": "code",
   "execution_count": null,
   "id": "5701dfa1",
   "metadata": {},
   "outputs": [],
   "source": []
  },
  {
   "cell_type": "code",
   "execution_count": null,
   "id": "d503806d",
   "metadata": {},
   "outputs": [],
   "source": []
  },
  {
   "cell_type": "code",
   "execution_count": null,
   "id": "acc6fe08",
   "metadata": {},
   "outputs": [],
   "source": []
  },
  {
   "cell_type": "code",
   "execution_count": null,
   "id": "eb17a829",
   "metadata": {},
   "outputs": [],
   "source": []
  },
  {
   "cell_type": "code",
   "execution_count": null,
   "id": "72c007eb",
   "metadata": {},
   "outputs": [],
   "source": []
  }
 ],
 "metadata": {
  "kernelspec": {
   "display_name": "Python 3 (ipykernel)",
   "language": "python",
   "name": "python3"
  },
  "language_info": {
   "codemirror_mode": {
    "name": "ipython",
    "version": 3
   },
   "file_extension": ".py",
   "mimetype": "text/x-python",
   "name": "python",
   "nbconvert_exporter": "python",
   "pygments_lexer": "ipython3",
   "version": "3.9.13"
  }
 },
 "nbformat": 4,
 "nbformat_minor": 5
}
