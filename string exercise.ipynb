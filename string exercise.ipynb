{
 "cells": [
  {
   "cell_type": "code",
   "execution_count": 1,
   "id": "f5679e32",
   "metadata": {},
   "outputs": [],
   "source": [
    "#Write a Python program to calculate the length of a string"
   ]
  },
  {
   "cell_type": "code",
   "execution_count": 3,
   "id": "0a2e2567",
   "metadata": {},
   "outputs": [
    {
     "name": "stdout",
     "output_type": "stream",
     "text": [
      "11\n"
     ]
    }
   ],
   "source": [
    "data=\"mathematics\"\n",
    "total=0\n",
    "for i in data:\n",
    "    total=total+1\n",
    "print(total)"
   ]
  },
  {
   "cell_type": "code",
   "execution_count": 4,
   "id": "7e84d9ab",
   "metadata": {},
   "outputs": [],
   "source": [
    "#Write a Python program to count the number of characters (character frequency) in a string"
   ]
  },
  {
   "cell_type": "code",
   "execution_count": 10,
   "id": "f7b4c8d2",
   "metadata": {},
   "outputs": [
    {
     "name": "stdout",
     "output_type": "stream",
     "text": [
      "{'m': 2, 'a': 2, 't': 2, 'h': 1, 'e': 1, 'i': 1, 'c': 1, 's': 1}\n",
      "mathematics\n"
     ]
    }
   ],
   "source": [
    "dict={}\n",
    "keys=dict.keys()\n",
    "for i in data:\n",
    "    if i in keys:\n",
    "        dict[i]=dict[i]+1\n",
    "    else:\n",
    "        dict[i]=1\n",
    "print(dict)\n",
    "print(data)"
   ]
  },
  {
   "cell_type": "markdown",
   "id": "d6943c74",
   "metadata": {},
   "source": [
    "# Write a Python program to get a string made of the first 2 and last 2 characters of a given string. If the string length is less than 2, return the empty string instead."
   ]
  },
  {
   "cell_type": "code",
   "execution_count": 15,
   "id": "d3e65531",
   "metadata": {},
   "outputs": [
    {
     "name": "stdout",
     "output_type": "stream",
     "text": [
      "mmfn\n"
     ]
    }
   ],
   "source": [
    "string='mmcfn'\n",
    "if len(string)>2:\n",
    "    print(string[0:2]+string[-2:])\n",
    "else:\n",
    "    print(' ')"
   ]
  },
  {
   "cell_type": "code",
   "execution_count": 16,
   "id": "52475b7f",
   "metadata": {},
   "outputs": [
    {
     "data": {
      "text/plain": [
       "'mathematics'"
      ]
     },
     "execution_count": 16,
     "metadata": {},
     "output_type": "execute_result"
    }
   ],
   "source": [
    "data"
   ]
  },
  {
   "cell_type": "code",
   "execution_count": 21,
   "id": "4839e74a",
   "metadata": {},
   "outputs": [
    {
     "data": {
      "text/plain": [
       "'mathe$atics'"
      ]
     },
     "execution_count": 21,
     "metadata": {},
     "output_type": "execute_result"
    }
   ],
   "source": [
    "first=data[0]\n",
    "final=first+data[1:].replace(first,'$')\n",
    "final"
   ]
  },
  {
   "cell_type": "markdown",
   "id": "68c5b930",
   "metadata": {},
   "source": [
    "# Write a Python program to get a single string from two given strings, separated by a space and swap the first two characters of each string."
   ]
  },
  {
   "cell_type": "code",
   "execution_count": 24,
   "id": "e194c0bd",
   "metadata": {},
   "outputs": [
    {
     "name": "stdout",
     "output_type": "stream",
     "text": [
      "nethematics\n",
      "mapali\n"
     ]
    }
   ],
   "source": [
    "string1,string2='mathematics','nepali'\n",
    "string1,string2=string2[0:2]+string1[2:],string1[0:2]+string2[2:]\n",
    "print(string1)\n",
    "print(string2)"
   ]
  },
  {
   "cell_type": "markdown",
   "id": "47cd33d8",
   "metadata": {},
   "source": [
    "# Write a Python program to add 'ing' at the end of a given string (length should be at least 3). If the given string already ends with 'ing', add 'ly' instead. If the string length of the given string is less than 3, leave it unchanged."
   ]
  },
  {
   "cell_type": "code",
   "execution_count": 34,
   "id": "9d038ac2",
   "metadata": {},
   "outputs": [
    {
     "name": "stdout",
     "output_type": "stream",
     "text": [
      "transing\n"
     ]
    }
   ],
   "source": [
    "string1='trans'\n",
    "if len(string1)>=3:\n",
    "    if(string1[-3:])=='ing':\n",
    "        string1=string1.replace('ing','ly')\n",
    "    else:\n",
    "        string1=string1+'ing'\n",
    "else:\n",
    "    pass\n",
    "print(string1)"
   ]
  },
  {
   "cell_type": "markdown",
   "id": "5311786c",
   "metadata": {},
   "source": [
    " #Write a Python function that takes a list of words and return the longest word and the length of the longest one."
   ]
  },
  {
   "cell_type": "code",
   "execution_count": 104,
   "id": "73613a42",
   "metadata": {},
   "outputs": [
    {
     "name": "stdout",
     "output_type": "stream",
     "text": [
      "10\n",
      "mathematic\n"
     ]
    }
   ],
   "source": [
    "list1=['money','memory','momentum','mathematic']\n",
    "list2=[]\n",
    "for i in list1:\n",
    "    list2.append([len(i),i])\n",
    "    list2.sort()\n",
    "print(list2[-1][0])\n",
    "print(list2[-1][1])\n",
    "    \n"
   ]
  },
  {
   "cell_type": "code",
   "execution_count": 105,
   "id": "b12e6831",
   "metadata": {},
   "outputs": [],
   "source": [
    " #Write a Python program to change a given string to a newly string where the first and last chars have been exchanged"
   ]
  },
  {
   "cell_type": "code",
   "execution_count": 106,
   "id": "4264af5b",
   "metadata": {},
   "outputs": [
    {
     "data": {
      "text/plain": [
       "'mathematics'"
      ]
     },
     "execution_count": 106,
     "metadata": {},
     "output_type": "execute_result"
    }
   ],
   "source": [
    "data"
   ]
  },
  {
   "cell_type": "code",
   "execution_count": 107,
   "id": "bcfc578b",
   "metadata": {},
   "outputs": [],
   "source": [
    "newdata=data[-2:]+data[2:-2]+data[0:2]"
   ]
  },
  {
   "cell_type": "code",
   "execution_count": 108,
   "id": "fdbc142a",
   "metadata": {},
   "outputs": [
    {
     "data": {
      "text/plain": [
       "'csthematima'"
      ]
     },
     "execution_count": 108,
     "metadata": {},
     "output_type": "execute_result"
    }
   ],
   "source": [
    "newdata"
   ]
  },
  {
   "cell_type": "code",
   "execution_count": 130,
   "id": "a6d29d27",
   "metadata": {},
   "outputs": [
    {
     "name": "stdout",
     "output_type": "stream",
     "text": [
      "0 s\n"
     ]
    }
   ],
   "source": [
    "for i,j in enumerate(data):\n",
    "    print(i,j)"
   ]
  },
  {
   "cell_type": "code",
   "execution_count": 133,
   "id": "873795ee",
   "metadata": {},
   "outputs": [
    {
     "data": {
      "text/plain": [
       "'csthematima'"
      ]
     },
     "execution_count": 133,
     "metadata": {},
     "output_type": "execute_result"
    }
   ],
   "source": [
    "newdata"
   ]
  },
  {
   "cell_type": "code",
   "execution_count": 148,
   "id": "9db9ac15",
   "metadata": {},
   "outputs": [
    {
     "name": "stdout",
     "output_type": "stream",
     "text": [
      "c\n",
      "t\n",
      "e\n",
      "a\n",
      "i\n",
      "a\n"
     ]
    }
   ],
   "source": [
    "for i,j in enumerate(newdata):\n",
    "    if i%2==0:\n",
    "        print(j)"
   ]
  },
  {
   "cell_type": "code",
   "execution_count": 149,
   "id": "79cc7ec4",
   "metadata": {},
   "outputs": [],
   "source": [
    "#Write a Python program to count the occurrences of each word in a given sentence."
   ]
  },
  {
   "cell_type": "code",
   "execution_count": 152,
   "id": "b5d212b9",
   "metadata": {},
   "outputs": [
    {
     "name": "stdout",
     "output_type": "stream",
     "text": [
      "{'hello': 1, 'im': 2, 'python': 1, 'developer': 1, 'and': 1, 'working': 1, 'in': 1, 'software': 1, 'company': 1}\n"
     ]
    }
   ],
   "source": [
    "sentence='hello im python developer and im working in software company '\n",
    "dict={}\n",
    "key=dict.keys()\n",
    "for i in sentence.split():\n",
    "    if i in key:\n",
    "        dict[i]=dict[i]+1\n",
    "    else:\n",
    "        dict[i]=1\n",
    "print(dict)\n",
    "    "
   ]
  },
  {
   "cell_type": "code",
   "execution_count": 153,
   "id": "3f366a6b",
   "metadata": {},
   "outputs": [],
   "source": [
    " #Write a Python script that takes input from the user and displays that input back in upper and lower cases."
   ]
  },
  {
   "cell_type": "code",
   "execution_count": null,
   "id": "d4c39f53",
   "metadata": {},
   "outputs": [],
   "source": [
    "data=input('please enter the input data')"
   ]
  },
  {
   "cell_type": "code",
   "execution_count": null,
   "id": "81ad9cf4",
   "metadata": {},
   "outputs": [],
   "source": []
  },
  {
   "cell_type": "code",
   "execution_count": null,
   "id": "1e78cbd7",
   "metadata": {},
   "outputs": [],
   "source": []
  },
  {
   "cell_type": "code",
   "execution_count": null,
   "id": "53e38ff2",
   "metadata": {},
   "outputs": [],
   "source": []
  },
  {
   "cell_type": "code",
   "execution_count": null,
   "id": "8a45f1f6",
   "metadata": {},
   "outputs": [],
   "source": []
  },
  {
   "cell_type": "code",
   "execution_count": null,
   "id": "1e4202f1",
   "metadata": {},
   "outputs": [],
   "source": []
  },
  {
   "cell_type": "code",
   "execution_count": null,
   "id": "2c779403",
   "metadata": {},
   "outputs": [],
   "source": []
  }
 ],
 "metadata": {
  "kernelspec": {
   "display_name": "Python 3 (ipykernel)",
   "language": "python",
   "name": "python3"
  },
  "language_info": {
   "codemirror_mode": {
    "name": "ipython",
    "version": 3
   },
   "file_extension": ".py",
   "mimetype": "text/x-python",
   "name": "python",
   "nbconvert_exporter": "python",
   "pygments_lexer": "ipython3",
   "version": "3.9.13"
  }
 },
 "nbformat": 4,
 "nbformat_minor": 5
}
