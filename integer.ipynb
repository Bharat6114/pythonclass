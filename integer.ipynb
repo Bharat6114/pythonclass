{
 "cells": [
  {
   "cell_type": "code",
   "execution_count": null,
   "id": "c6c31c17",
   "metadata": {},
   "outputs": [],
   "source": [
    "integer\n",
    "a=3\n",
    "a=4\n",
    "c=5\n",
    "d=int(9)\n",
    "etc\n",
    "float\n",
    "a=2.0\n",
    "c=3.34\n",
    "f=45.3\n",
    "f=float(3.56)\n",
    "complex\n",
    "a=1+"
   ]
  }
 ],
 "metadata": {
  "kernelspec": {
   "display_name": "Python 3 (ipykernel)",
   "language": "python",
   "name": "python3"
  },
  "language_info": {
   "codemirror_mode": {
    "name": "ipython",
    "version": 3
   },
   "file_extension": ".py",
   "mimetype": "text/x-python",
   "name": "python",
   "nbconvert_exporter": "python",
   "pygments_lexer": "ipython3",
   "version": "3.9.12"
  }
 },
 "nbformat": 4,
 "nbformat_minor": 5
}
