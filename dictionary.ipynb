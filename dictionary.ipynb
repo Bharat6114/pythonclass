{
 "cells": [
  {
   "cell_type": "code",
   "execution_count": 3,
   "id": "bb0be4e9",
   "metadata": {},
   "outputs": [],
   "source": [
    "#dictionary is collection of key value pair\n",
    "#dictionary is ordered collection but we can not access dictionary by using index\n",
    "#dictionary can not contain duplicate keys\n",
    "#dictionary is mutable collection\n",
    "#dictionary iterable\n",
    "#dictionary is accessed by keys\n",
    "#in python dictionary is defined as dictionary1={\"key\":\"value\"}\n",
    "#also canb defined by dictionary=dict(data)\n",
    "#is enclosed by {}"
   ]
  },
  {
   "cell_type": "code",
   "execution_count": 4,
   "id": "c9a5de84",
   "metadata": {},
   "outputs": [],
   "source": [
    "dictionary ={\"key1\":\"value1\",\"key2\":\"value2\",\"key3\":\"value3\"} #to define a dectionary"
   ]
  },
  {
   "cell_type": "code",
   "execution_count": 5,
   "id": "ba9bcbce",
   "metadata": {},
   "outputs": [
    {
     "data": {
      "text/plain": [
       "dict"
      ]
     },
     "execution_count": 5,
     "metadata": {},
     "output_type": "execute_result"
    }
   ],
   "source": [
    "type(dictionary)#to find out data type"
   ]
  },
  {
   "cell_type": "code",
   "execution_count": 6,
   "id": "3982169b",
   "metadata": {},
   "outputs": [
    {
     "data": {
      "text/plain": [
       "dict_keys(['key1', 'key2', 'key3'])"
      ]
     },
     "execution_count": 6,
     "metadata": {},
     "output_type": "execute_result"
    }
   ],
   "source": [
    "dictionary.keys() #to find out keys of dictionary"
   ]
  },
  {
   "cell_type": "code",
   "execution_count": 7,
   "id": "4db8a288",
   "metadata": {},
   "outputs": [
    {
     "data": {
      "text/plain": [
       "dict_values(['value1', 'value2', 'value3'])"
      ]
     },
     "execution_count": 7,
     "metadata": {},
     "output_type": "execute_result"
    }
   ],
   "source": [
    "dictionary.values()  #to find out values of dictionary"
   ]
  },
  {
   "cell_type": "code",
   "execution_count": 9,
   "id": "a56aa191",
   "metadata": {},
   "outputs": [
    {
     "data": {
      "text/plain": [
       "dict_items([('key1', 'value1'), ('key2', 'value2'), ('key3', 'value3')])"
      ]
     },
     "execution_count": 9,
     "metadata": {},
     "output_type": "execute_result"
    }
   ],
   "source": [
    "dictionary.items()  #to get info about dictionary"
   ]
  },
  {
   "cell_type": "code",
   "execution_count": 10,
   "id": "6f2c2749",
   "metadata": {},
   "outputs": [],
   "source": [
    "dictionary['key3']='value3'"
   ]
  },
  {
   "cell_type": "code",
   "execution_count": 11,
   "id": "a7c2e4bb",
   "metadata": {},
   "outputs": [
    {
     "data": {
      "text/plain": [
       "{'key1': 'value1', 'key2': 'value2', 'key3': 'value3'}"
      ]
     },
     "execution_count": 11,
     "metadata": {},
     "output_type": "execute_result"
    }
   ],
   "source": [
    "dictionary"
   ]
  },
  {
   "cell_type": "code",
   "execution_count": null,
   "id": "63553b61",
   "metadata": {},
   "outputs": [],
   "source": []
  }
 ],
 "metadata": {
  "kernelspec": {
   "display_name": "Python 3 (ipykernel)",
   "language": "python",
   "name": "python3"
  },
  "language_info": {
   "codemirror_mode": {
    "name": "ipython",
    "version": 3
   },
   "file_extension": ".py",
   "mimetype": "text/x-python",
   "name": "python",
   "nbconvert_exporter": "python",
   "pygments_lexer": "ipython3",
   "version": "3.9.12"
  }
 },
 "nbformat": 4,
 "nbformat_minor": 5
}
