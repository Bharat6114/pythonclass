{
 "cells": [
  {
   "cell_type": "code",
   "execution_count": null,
   "metadata": {},
   "outputs": [],
   "source": [
    "class Account:\n",
    "    def _init_(self ,amt):\n",
    "        self.min_balance=5000\n",
    "        if amt<self.min_balance:\n",
    "            raise ValueError(f\"Amount must be greater than or equal to{self.min_balance})\n",
    "            self.total_amount=amt\n",
    "    def deposit(self,amt):\n",
    "                             self.total_amount=self.total_amount+amt\n",
    "                             return f\" Your balance is {self.total_amount}\""
   ]
  }
 ],
 "metadata": {
  "kernelspec": {
   "display_name": "Python 3",
   "language": "python",
   "name": "python3"
  },
  "language_info": {
   "codemirror_mode": {
    "name": "ipython",
    "version": 3
   },
   "file_extension": ".py",
   "mimetype": "text/x-python",
   "name": "python",
   "nbconvert_exporter": "python",
   "pygments_lexer": "ipython3",
   "version": "3.7.4"
  }
 },
 "nbformat": 4,
 "nbformat_minor": 2
}
