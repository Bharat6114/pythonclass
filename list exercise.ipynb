{
 "cells": [
  {
   "cell_type": "code",
   "execution_count": 2,
   "id": "6927b9b9",
   "metadata": {},
   "outputs": [],
   "source": [
    " #Write a Python program to sum all the items in a list"
   ]
  },
  {
   "cell_type": "code",
   "execution_count": 4,
   "id": "5023ba3b",
   "metadata": {},
   "outputs": [
    {
     "data": {
      "text/plain": [
       "36"
      ]
     },
     "execution_count": 4,
     "metadata": {},
     "output_type": "execute_result"
    }
   ],
   "source": [
    "list1=[1,2,3,4,5,6,7,8]\n",
    "sum(list1)"
   ]
  },
  {
   "cell_type": "code",
   "execution_count": 7,
   "id": "1fc328b0",
   "metadata": {},
   "outputs": [
    {
     "name": "stdout",
     "output_type": "stream",
     "text": [
      "36\n"
     ]
    }
   ],
   "source": [
    "total=0\n",
    "for i in list1:\n",
    "    total=total+i\n",
    "print(total)"
   ]
  },
  {
   "cell_type": "code",
   "execution_count": 8,
   "id": "4411cb42",
   "metadata": {},
   "outputs": [],
   "source": [
    "# Write a Python program to multiply all the items in a list. "
   ]
  },
  {
   "cell_type": "code",
   "execution_count": 9,
   "id": "17beb786",
   "metadata": {},
   "outputs": [
    {
     "data": {
      "text/plain": [
       "[1, 2, 3, 4, 5, 6, 7, 8]"
      ]
     },
     "execution_count": 9,
     "metadata": {},
     "output_type": "execute_result"
    }
   ],
   "source": [
    "list1"
   ]
  },
  {
   "cell_type": "code",
   "execution_count": 10,
   "id": "3ef4ec6f",
   "metadata": {},
   "outputs": [
    {
     "name": "stdout",
     "output_type": "stream",
     "text": [
      "40320\n"
     ]
    }
   ],
   "source": [
    "total=1\n",
    "for i in list1:\n",
    "    total=total*i\n",
    "print(total)"
   ]
  },
  {
   "cell_type": "code",
   "execution_count": 12,
   "id": "001c332b",
   "metadata": {},
   "outputs": [
    {
     "data": {
      "text/plain": [
       "6"
      ]
     },
     "execution_count": 12,
     "metadata": {},
     "output_type": "execute_result"
    }
   ],
   "source": [
    "#Write a Python program to get the largest number from a list.\n",
    "list1=[1,2,3,4,5,6]\n",
    "max(list1)"
   ]
  },
  {
   "cell_type": "code",
   "execution_count": 18,
   "id": "889a6068",
   "metadata": {},
   "outputs": [
    {
     "name": "stdout",
     "output_type": "stream",
     "text": [
      "maximum number is : 6\n"
     ]
    }
   ],
   "source": [
    "max=list1[0]\n",
    "for i in list1:\n",
    "    if(i>max):\n",
    "        max=i\n",
    "    else:\n",
    "        min=i\n",
    "print('maximum number is :',max)"
   ]
  },
  {
   "cell_type": "code",
   "execution_count": 19,
   "id": "e474e95e",
   "metadata": {},
   "outputs": [
    {
     "data": {
      "text/plain": [
       "1"
      ]
     },
     "execution_count": 19,
     "metadata": {},
     "output_type": "execute_result"
    }
   ],
   "source": [
    "min"
   ]
  },
  {
   "cell_type": "code",
   "execution_count": 20,
   "id": "2aa8ea46",
   "metadata": {},
   "outputs": [],
   "source": [
    "#Write a Python program to get the smallest number from a list."
   ]
  },
  {
   "cell_type": "code",
   "execution_count": 21,
   "id": "249abe7b",
   "metadata": {},
   "outputs": [
    {
     "name": "stdout",
     "output_type": "stream",
     "text": [
      "min number is 1\n",
      "max number is 6\n"
     ]
    }
   ],
   "source": [
    "min=list1[0]\n",
    "for i in list1:\n",
    "    if i<min:\n",
    "        min=i\n",
    "    else:\n",
    "        max=i\n",
    "print('min number is',min)\n",
    "print('max number is',max)"
   ]
  },
  {
   "cell_type": "code",
   "execution_count": null,
   "id": "b6f308f0",
   "metadata": {},
   "outputs": [],
   "source": []
  },
  {
   "cell_type": "code",
   "execution_count": null,
   "id": "ef9563e7",
   "metadata": {},
   "outputs": [],
   "source": []
  },
  {
   "cell_type": "code",
   "execution_count": null,
   "id": "2390d666",
   "metadata": {},
   "outputs": [],
   "source": []
  },
  {
   "cell_type": "code",
   "execution_count": null,
   "id": "82849409",
   "metadata": {},
   "outputs": [],
   "source": []
  },
  {
   "cell_type": "code",
   "execution_count": null,
   "id": "05a3df56",
   "metadata": {},
   "outputs": [],
   "source": []
  },
  {
   "cell_type": "code",
   "execution_count": null,
   "id": "b1651a72",
   "metadata": {},
   "outputs": [],
   "source": []
  }
 ],
 "metadata": {
  "kernelspec": {
   "display_name": "Python 3 (ipykernel)",
   "language": "python",
   "name": "python3"
  },
  "language_info": {
   "codemirror_mode": {
    "name": "ipython",
    "version": 3
   },
   "file_extension": ".py",
   "mimetype": "text/x-python",
   "name": "python",
   "nbconvert_exporter": "python",
   "pygments_lexer": "ipython3",
   "version": "3.9.13"
  }
 },
 "nbformat": 4,
 "nbformat_minor": 5
}
