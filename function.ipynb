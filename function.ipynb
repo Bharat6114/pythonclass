{
 "cells": [
  {
   "cell_type": "code",
   "execution_count": 3,
   "id": "29dc1ebc",
   "metadata": {},
   "outputs": [],
   "source": [
    "def add(a,b):\n",
    "    return a+b"
   ]
  },
  {
   "cell_type": "code",
   "execution_count": 4,
   "id": "f271c292",
   "metadata": {},
   "outputs": [
    {
     "data": {
      "text/plain": [
       "5"
      ]
     },
     "execution_count": 4,
     "metadata": {},
     "output_type": "execute_result"
    }
   ],
   "source": [
    "add(2,3)"
   ]
  },
  {
   "cell_type": "code",
   "execution_count": 5,
   "id": "24c46fae",
   "metadata": {},
   "outputs": [],
   "source": [
    "def add():\n",
    "    a=3\n",
    "    b=4\n",
    "    c=a+b\n",
    "    return c"
   ]
  },
  {
   "cell_type": "code",
   "execution_count": 6,
   "id": "f7c61952",
   "metadata": {},
   "outputs": [
    {
     "data": {
      "text/plain": [
       "7"
      ]
     },
     "execution_count": 6,
     "metadata": {},
     "output_type": "execute_result"
    }
   ],
   "source": [
    "add()"
   ]
  },
  {
   "cell_type": "code",
   "execution_count": 11,
   "id": "c6aadebe",
   "metadata": {},
   "outputs": [],
   "source": [
    "def info(name,address):\n",
    "    return name,address"
   ]
  },
  {
   "cell_type": "code",
   "execution_count": 12,
   "id": "371e31a2",
   "metadata": {},
   "outputs": [
    {
     "data": {
      "text/plain": [
       "('bharat', 'ddl')"
      ]
     },
     "execution_count": 12,
     "metadata": {},
     "output_type": "execute_result"
    }
   ],
   "source": [
    "info(\"bharat\",\"ddl\")"
   ]
  },
  {
   "cell_type": "code",
   "execution_count": 13,
   "id": "dfd6f1c1",
   "metadata": {},
   "outputs": [],
   "source": [
    "def febo(n):\n",
    "    if(n<2):\n",
    "        return 1\n",
    "    else:\n",
    "        return febo(n-1)+febo(n-2)"
   ]
  },
  {
   "cell_type": "code",
   "execution_count": 14,
   "id": "44915d0d",
   "metadata": {},
   "outputs": [
    {
     "data": {
      "text/plain": [
       "8"
      ]
     },
     "execution_count": 14,
     "metadata": {},
     "output_type": "execute_result"
    }
   ],
   "source": [
    "febo(5)"
   ]
  },
  {
   "cell_type": "code",
   "execution_count": 16,
   "id": "180d48aa",
   "metadata": {},
   "outputs": [],
   "source": [
    "def fact(n):\n",
    "    if(n<1):\n",
    "        return 1\n",
    "    else:\n",
    "        return n*fact(n-1)"
   ]
  },
  {
   "cell_type": "code",
   "execution_count": 17,
   "id": "92cf263e",
   "metadata": {},
   "outputs": [
    {
     "data": {
      "text/plain": [
       "120"
      ]
     },
     "execution_count": 17,
     "metadata": {},
     "output_type": "execute_result"
    }
   ],
   "source": [
    "fact(5)"
   ]
  },
  {
   "cell_type": "code",
   "execution_count": 40,
   "id": "ca3e8cfa",
   "metadata": {},
   "outputs": [
    {
     "name": "stdout",
     "output_type": "stream",
     "text": [
      "1\n",
      "1\n",
      "2\n",
      "3\n",
      "5\n",
      "8\n",
      "13\n",
      "21\n",
      "34\n"
     ]
    }
   ],
   "source": [
    "a=1\n",
    "b=1\n",
    "temp=0\n",
    "print(a)\n",
    "print(b)\n",
    "for i in range(10):\n",
    "    if(i>2):\n",
    "        temp=a\n",
    "        a=b\n",
    "        b=temp+a\n",
    "        print(b)\n",
    "        "
   ]
  },
  {
   "cell_type": "code",
   "execution_count": 43,
   "id": "b187081b",
   "metadata": {},
   "outputs": [
    {
     "name": "stdout",
     "output_type": "stream",
     "text": [
      "palendrom\n"
     ]
    }
   ],
   "source": [
    "s=\"paap\"\n",
    "if s==s[::-1]:\n",
    "    print(\"palendrom\")\n",
    "    \n",
    "else:\n",
    "    print(\"not palendrom\")"
   ]
  },
  {
   "cell_type": "code",
   "execution_count": 44,
   "id": "d0ab383f",
   "metadata": {},
   "outputs": [],
   "source": [
    "def max(a,b,c):\n",
    "    if(a>b and a>c):\n",
    "        print(\"max is a :\",a)\n",
    "    elif(b>a and b>c):\n",
    "        print(\"b is max:\",b)\n",
    "    else:\n",
    "        print(\"c is max:\",c)"
   ]
  },
  {
   "cell_type": "code",
   "execution_count": 47,
   "id": "66c682f3",
   "metadata": {},
   "outputs": [
    {
     "name": "stdout",
     "output_type": "stream",
     "text": [
      "c is max: 40\n"
     ]
    }
   ],
   "source": [
    "max(30,20,40)"
   ]
  },
  {
   "cell_type": "code",
   "execution_count": 48,
   "id": "118bb85a",
   "metadata": {},
   "outputs": [],
   "source": [
    "def max(a,b):\n",
    "    if(a>b):\n",
    "        print(\"a is max:\", a)\n",
    "    else:\n",
    "        print(\"b is max:\",b)"
   ]
  },
  {
   "cell_type": "code",
   "execution_count": 49,
   "id": "b197eb5b",
   "metadata": {},
   "outputs": [
    {
     "name": "stdout",
     "output_type": "stream",
     "text": [
      "b is max: 40\n"
     ]
    }
   ],
   "source": [
    "max(20,40)"
   ]
  },
  {
   "cell_type": "code",
   "execution_count": 59,
   "id": "54c7ad79",
   "metadata": {},
   "outputs": [],
   "source": [
    "def sum(number):\n",
    "    total=0\n",
    "    for x in number:\n",
    "        total=total+x\n",
    "    \n",
    "    return total\n",
    "    "
   ]
  },
  {
   "cell_type": "code",
   "execution_count": 60,
   "id": "c5d2c87f",
   "metadata": {},
   "outputs": [
    {
     "data": {
      "text/plain": [
       "6"
      ]
     },
     "execution_count": 60,
     "metadata": {},
     "output_type": "execute_result"
    }
   ],
   "source": [
    "sum([1,2,3])"
   ]
  },
  {
   "cell_type": "code",
   "execution_count": 67,
   "id": "2e0f949e",
   "metadata": {},
   "outputs": [],
   "source": [
    "def multiply(num):\n",
    "    total=1\n",
    "    for x in num:\n",
    "        total=total*x\n",
    "    return total"
   ]
  },
  {
   "cell_type": "code",
   "execution_count": 68,
   "id": "f07fb1a6",
   "metadata": {},
   "outputs": [
    {
     "data": {
      "text/plain": [
       "60"
      ]
     },
     "execution_count": 68,
     "metadata": {},
     "output_type": "execute_result"
    }
   ],
   "source": [
    "multiply([3,4,5])"
   ]
  },
  {
   "cell_type": "code",
   "execution_count": 77,
   "id": "27d63fa5",
   "metadata": {},
   "outputs": [],
   "source": [
    "def reverse(string):\n",
    "    restring = ''\n",
    "    index =len(string)\n",
    "    while(index>0):\n",
    "        restring=restring+(string[index-1])\n",
    "        index=index-1\n",
    "    return restring"
   ]
  },
  {
   "cell_type": "code",
   "execution_count": 78,
   "id": "d58def42",
   "metadata": {},
   "outputs": [
    {
     "data": {
      "text/plain": [
       "'tarahb'"
      ]
     },
     "execution_count": 78,
     "metadata": {},
     "output_type": "execute_result"
    }
   ],
   "source": [
    "reverse(\"bharat\")"
   ]
  },
  {
   "cell_type": "code",
   "execution_count": 88,
   "id": "13ec7dd3",
   "metadata": {},
   "outputs": [],
   "source": [
    "def number(num):\n",
    "    if num in range(10):\n",
    "        return num\n",
    "    else:\n",
    "        return \"not in range\""
   ]
  },
  {
   "cell_type": "code",
   "execution_count": 89,
   "id": "a4102cae",
   "metadata": {},
   "outputs": [
    {
     "data": {
      "text/plain": [
       "8"
      ]
     },
     "execution_count": 89,
     "metadata": {},
     "output_type": "execute_result"
    }
   ],
   "source": [
    "number(8)"
   ]
  },
  {
   "cell_type": "code",
   "execution_count": 95,
   "id": "6db207fe",
   "metadata": {},
   "outputs": [],
   "source": [
    "def list1(list2):\n",
    "    set1=set({})\n",
    "    for i in list2:\n",
    "        set1.add(i)\n",
    "    return list(set1)\n",
    "        "
   ]
  },
  {
   "cell_type": "code",
   "execution_count": 96,
   "id": "3c73c049",
   "metadata": {},
   "outputs": [
    {
     "data": {
      "text/plain": [
       "[1, 2, 3, 4, 5, 6]"
      ]
     },
     "execution_count": 96,
     "metadata": {},
     "output_type": "execute_result"
    }
   ],
   "source": [
    "list1([1,2,3,4,5,6,6,6])"
   ]
  },
  {
   "cell_type": "code",
   "execution_count": 123,
   "id": "b3eff350",
   "metadata": {},
   "outputs": [],
   "source": [
    "def num(n):\n",
    "    for x in range(2,n):\n",
    "        if(n%x==0):\n",
    "            print(\"not prime\")\n",
    "        \n",
    "        "
   ]
  },
  {
   "cell_type": "code",
   "execution_count": 129,
   "id": "98caf7e7",
   "metadata": {},
   "outputs": [],
   "source": [
    "num(11)"
   ]
  },
  {
   "cell_type": "code",
   "execution_count": 139,
   "id": "55fb15ee",
   "metadata": {},
   "outputs": [
    {
     "name": "stdout",
     "output_type": "stream",
     "text": [
      "True\n"
     ]
    }
   ],
   "source": [
    "def test_prime(n):\n",
    "    if (n==1):\n",
    "        return False\n",
    "    elif (n==2):\n",
    "        return False;\n",
    "    else:\n",
    "        for x in range(2,n):\n",
    "            if(n % x==0):\n",
    "                return False\n",
    "        return True             \n",
    "print(test_prime(11))"
   ]
  },
  {
   "cell_type": "code",
   "execution_count": 154,
   "id": "9da9cf5f",
   "metadata": {},
   "outputs": [],
   "source": [
    "def even(list1):\n",
    "    list2=[]\n",
    "    for num in list1:\n",
    "        if(num%2==0):\n",
    "            list2.append(num)\n",
    "    return list2\n",
    "            \n",
    "        \n",
    "        "
   ]
  },
  {
   "cell_type": "code",
   "execution_count": 155,
   "id": "d8410cda",
   "metadata": {},
   "outputs": [
    {
     "data": {
      "text/plain": [
       "[2, 4, 6]"
      ]
     },
     "execution_count": 155,
     "metadata": {},
     "output_type": "execute_result"
    }
   ],
   "source": [
    "even([1,2,3,4,5,6])"
   ]
  }
 ],
 "metadata": {
  "kernelspec": {
   "display_name": "Python 3 (ipykernel)",
   "language": "python",
   "name": "python3"
  },
  "language_info": {
   "codemirror_mode": {
    "name": "ipython",
    "version": 3
   },
   "file_extension": ".py",
   "mimetype": "text/x-python",
   "name": "python",
   "nbconvert_exporter": "python",
   "pygments_lexer": "ipython3",
   "version": "3.9.12"
  }
 },
 "nbformat": 4,
 "nbformat_minor": 5
}
