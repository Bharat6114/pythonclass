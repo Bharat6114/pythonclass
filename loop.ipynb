{
 "cells": [
  {
   "cell_type": "code",
   "execution_count": 177,
   "metadata": {},
   "outputs": [
    {
     "name": "stdout",
     "output_type": "stream",
     "text": [
      "1X1=1\n",
      "1X1=1\n",
      "1X2=2\n",
      "1X2=2\n",
      "1X3=3\n",
      "1X3=3\n",
      "1X4=4\n",
      "1X4=4\n",
      "1X5=5\n",
      "1X5=5\n",
      "1X6=6\n",
      "1X6=6\n",
      "1X7=7\n",
      "1X7=7\n",
      "1X8=8\n",
      "1X8=8\n",
      "1X9=9\n",
      "1X9=9\n",
      "1X10=10\n",
      "1X10=10\n",
      "---------------\n",
      "\n",
      "2X1=2\n",
      "2X1=2\n",
      "2X2=4\n",
      "2X2=4\n",
      "2X3=6\n",
      "2X3=6\n",
      "2X4=8\n",
      "2X4=8\n",
      "2X5=10\n",
      "2X5=10\n",
      "2X6=12\n",
      "2X6=12\n",
      "2X7=14\n",
      "2X7=14\n",
      "2X8=16\n",
      "2X8=16\n",
      "2X9=18\n",
      "2X9=18\n",
      "2X10=20\n",
      "2X10=20\n",
      "---------------\n",
      "\n",
      "3X1=3\n",
      "3X1=3\n",
      "3X2=6\n",
      "3X2=6\n",
      "3X3=9\n",
      "3X3=9\n",
      "3X4=12\n",
      "3X4=12\n",
      "3X5=15\n",
      "3X5=15\n",
      "3X6=18\n",
      "3X6=18\n",
      "3X7=21\n",
      "3X7=21\n",
      "3X8=24\n",
      "3X8=24\n",
      "3X9=27\n",
      "3X9=27\n",
      "3X10=30\n",
      "3X10=30\n",
      "---------------\n",
      "\n",
      "4X1=4\n",
      "4X1=4\n",
      "4X2=8\n",
      "4X2=8\n",
      "4X3=12\n",
      "4X3=12\n",
      "4X4=16\n",
      "4X4=16\n",
      "4X5=20\n",
      "4X5=20\n",
      "4X6=24\n",
      "4X6=24\n",
      "4X7=28\n",
      "4X7=28\n",
      "4X8=32\n",
      "4X8=32\n",
      "4X9=36\n",
      "4X9=36\n",
      "4X10=40\n",
      "4X10=40\n",
      "---------------\n",
      "\n",
      "5X1=5\n",
      "5X1=5\n",
      "5X2=10\n",
      "5X2=10\n",
      "5X3=15\n",
      "5X3=15\n",
      "5X4=20\n",
      "5X4=20\n",
      "5X5=25\n",
      "5X5=25\n",
      "5X6=30\n",
      "5X6=30\n",
      "5X7=35\n",
      "5X7=35\n",
      "5X8=40\n",
      "5X8=40\n",
      "5X9=45\n",
      "5X9=45\n",
      "5X10=50\n",
      "5X10=50\n",
      "---------------\n",
      "\n",
      "6X1=6\n",
      "6X1=6\n",
      "6X2=12\n",
      "6X2=12\n",
      "6X3=18\n",
      "6X3=18\n",
      "6X4=24\n",
      "6X4=24\n",
      "6X5=30\n",
      "6X5=30\n",
      "6X6=36\n",
      "6X6=36\n",
      "6X7=42\n",
      "6X7=42\n",
      "6X8=48\n",
      "6X8=48\n",
      "6X9=54\n",
      "6X9=54\n",
      "6X10=60\n",
      "6X10=60\n",
      "---------------\n",
      "\n",
      "7X1=7\n",
      "7X1=7\n",
      "7X2=14\n",
      "7X2=14\n",
      "7X3=21\n",
      "7X3=21\n",
      "7X4=28\n",
      "7X4=28\n",
      "7X5=35\n",
      "7X5=35\n",
      "7X6=42\n",
      "7X6=42\n",
      "7X7=49\n",
      "7X7=49\n",
      "7X8=56\n",
      "7X8=56\n",
      "7X9=63\n",
      "7X9=63\n",
      "7X10=70\n",
      "7X10=70\n",
      "---------------\n",
      "\n",
      "8X1=8\n",
      "8X1=8\n",
      "8X2=16\n",
      "8X2=16\n",
      "8X3=24\n",
      "8X3=24\n",
      "8X4=32\n",
      "8X4=32\n",
      "8X5=40\n",
      "8X5=40\n",
      "8X6=48\n",
      "8X6=48\n",
      "8X7=56\n",
      "8X7=56\n",
      "8X8=64\n",
      "8X8=64\n",
      "8X9=72\n",
      "8X9=72\n",
      "8X10=80\n",
      "8X10=80\n",
      "---------------\n",
      "\n",
      "9X1=9\n",
      "9X1=9\n",
      "9X2=18\n",
      "9X2=18\n",
      "9X3=27\n",
      "9X3=27\n",
      "9X4=36\n",
      "9X4=36\n",
      "9X5=45\n",
      "9X5=45\n",
      "9X6=54\n",
      "9X6=54\n",
      "9X7=63\n",
      "9X7=63\n",
      "9X8=72\n",
      "9X8=72\n",
      "9X9=81\n",
      "9X9=81\n",
      "9X10=90\n",
      "9X10=90\n",
      "---------------\n",
      "\n",
      "10X1=10\n",
      "10X1=10\n",
      "10X2=20\n",
      "10X2=20\n",
      "10X3=30\n",
      "10X3=30\n",
      "10X4=40\n",
      "10X4=40\n",
      "10X5=50\n",
      "10X5=50\n",
      "10X6=60\n",
      "10X6=60\n",
      "10X7=70\n",
      "10X7=70\n",
      "10X8=80\n",
      "10X8=80\n",
      "10X9=90\n",
      "10X9=90\n",
      "10X10=100\n",
      "10X10=100\n",
      "---------------\n",
      "\n"
     ]
    }
   ],
   "source": [
    "for i in range (1,11):\n",
    "    for j in range(1,11\n",
    "                  ):\n",
    "        #print(i*j)\n",
    "        print(\"{}X{}={}\".format(i,j,i*j))\n",
    "        print(f\"{i}X{j}={i*j}\")\n",
    "    print(\"---------------\\n\")\n",
    "         \n",
    "        "
   ]
  },
  {
   "cell_type": "code",
   "execution_count": 32,
   "metadata": {},
   "outputs": [
    {
     "name": "stdout",
     "output_type": "stream",
     "text": [
      "*  \r\n",
      "*  *  \r\n",
      "*  *  *  \r\n",
      "*  *  *  *  \r\n",
      "*  *  *  *  *  \r\n",
      "*  *  *  *  *  *  \r\n",
      "*  *  *  *  *  *  *  \r\n",
      "*  *  *  *  *  *  *  *  \r\n",
      "*  *  *  *  *  *  *  *  *  \r\n",
      "*  *  *  *  *  *  *  *  *  *  \r\n"
     ]
    }
   ],
   "source": [
    "for i in range(0,10):\n",
    "    for j in range(0,i+1):\n",
    "        print(\"* \",end=\" \")\n",
    "    print(\"\\r\")\n",
    "        "
   ]
  },
  {
   "cell_type": "code",
   "execution_count": 73,
   "metadata": {},
   "outputs": [
    {
     "name": "stdout",
     "output_type": "stream",
     "text": [
      "*  *  *  *  *  *  *  *  *  *  \r\n",
      "*  *  *  *  *  *  *  *  *  *  \r\n",
      "*  *  *  *  *  *  *  *  *  *  \r\n",
      "*  *  *  *  *  *  *  *  *  *  \r\n",
      "*  *  *  *  *  *  *  *  *  *  \r\n",
      "*  *  *  *  *  *  *  *  *  *  \r\n",
      "*  *  *  *  *  *  *  *  *  *  \r\n"
     ]
    }
   ],
   "source": [
    "for i in range(0,i-2):\n",
    "    for j in range(0,10):\n",
    "        print(\"* \",end=\" \")\n",
    "    print(\"\\r\")"
   ]
  },
  {
   "cell_type": "code",
   "execution_count": 151,
   "metadata": {},
   "outputs": [
    {
     "name": "stdout",
     "output_type": "stream",
     "text": [
      "            *   \n",
      "           *  *   \n",
      "          *  *  *   \n",
      "         *  *  *  *   \n",
      "        *  *  *  *  *   \n",
      "       *  *  *  *  *  *   \n",
      "      *  *  *  *  *  *  *   \n"
     ]
    }
   ],
   "source": [
    "\n",
    "n = 7\n",
    "m= n*2-2\n",
    "for i in range(0, n):\n",
    "    for j in range(0, m):\n",
    "        print(end=\" \")\n",
    "    m = m - 1 \n",
    "    for j in range(0, i + 1):\n",
    "        print(\"* \", end=' ')\n",
    "    print(\" \")"
   ]
  },
  {
   "cell_type": "code",
   "execution_count": 157,
   "metadata": {},
   "outputs": [
    {
     "name": "stdout",
     "output_type": "stream",
     "text": [
      "* * * * * * \r\n",
      "* * * * * \r\n",
      "* * * * \r\n",
      "* * * \r\n",
      "* * \r\n",
      "* \r\n"
     ]
    }
   ],
   "source": [
    "for i in range (5,-1,-1):\n",
    "    for j in range(0, i + 1):\n",
    "        print(\"*\", end=' ')\n",
    "\n",
    "    print(\"\\r\")"
   ]
  },
  {
   "cell_type": "code",
   "execution_count": 162,
   "metadata": {},
   "outputs": [
    {
     "name": "stdout",
     "output_type": "stream",
     "text": [
      "5 5 5 5 5 5 \r\n",
      "4 4 4 4 4 \r\n",
      "3 3 3 3 \r\n",
      "2 2 2 \r\n",
      "1 1 \r\n",
      "0 \r\n"
     ]
    }
   ],
   "source": [
    "for i in range (5,-1,-1):\n",
    "    for j in range(0, i + 1):\n",
    "        print(i, end=' ')\n",
    "\n",
    "    print(\"\\r\")"
   ]
  },
  {
   "cell_type": "code",
   "execution_count": 164,
   "metadata": {},
   "outputs": [
    {
     "name": "stdout",
     "output_type": "stream",
     "text": [
      "0 \r\n",
      "1 1 \r\n",
      "2 2 2 \r\n",
      "3 3 3 3 \r\n",
      "4 4 4 4 4 \r\n",
      "5 5 5 5 5 5 \r\n",
      "6 6 6 6 6 6 6 \r\n",
      "7 7 7 7 7 7 7 7 \r\n",
      "8 8 8 8 8 8 8 8 8 \r\n",
      "9 9 9 9 9 9 9 9 9 9 \r\n"
     ]
    }
   ],
   "source": [
    "for i in range (0,10):\n",
    "    for j in range(0, i + 1):\n",
    "        print(i, end=' ')\n",
    "\n",
    "    print(\"\\r\")"
   ]
  },
  {
   "cell_type": "code",
   "execution_count": 170,
   "metadata": {},
   "outputs": [
    {
     "name": "stdout",
     "output_type": "stream",
     "text": [
      "                  0 \r\n",
      "                 1 1 \r\n",
      "                2 2 2 \r\n",
      "               3 3 3 3 \r\n",
      "              4 4 4 4 4 \r\n",
      "             5 5 5 5 5 5 \r\n",
      "            6 6 6 6 6 6 6 \r\n",
      "           7 7 7 7 7 7 7 7 \r\n",
      "          8 8 8 8 8 8 8 8 8 \r\n",
      "         9 9 9 9 9 9 9 9 9 9 \r\n"
     ]
    }
   ],
   "source": [
    "n=10\n",
    "m=2*n-2\n",
    "for i in range (0,n):\n",
    "    for j in range(0,m):\n",
    "        print(end=\" \")\n",
    "    m=m-1\n",
    "    for j in range(0, i + 1):\n",
    "        print(i, end=\" \")\n",
    "\n",
    "    print(\"\\r\")"
   ]
  },
  {
   "cell_type": "code",
   "execution_count": 175,
   "metadata": {},
   "outputs": [
    {
     "name": "stdout",
     "output_type": "stream",
     "text": [
      "0 1 2 3 4 5 6 7 8 9 \r\n",
      "0 1 2 3 4 5 6 7 8 9 \r\n",
      "0 1 2 3 4 5 6 7 8 9 \r\n",
      "0 1 2 3 4 5 6 7 8 9 \r\n",
      "0 1 2 3 4 5 6 7 8 9 \r\n",
      "0 1 2 3 4 5 6 7 8 9 \r\n",
      "0 1 2 3 4 5 6 7 8 9 \r\n"
     ]
    }
   ],
   "source": [
    "for j in range (0,i-2):\n",
    "    for i in range(0, 10):\n",
    "        print(i, end=' ')\n",
    "\n",
    "    print(\"\\r\")"
   ]
  },
  {
   "cell_type": "code",
   "execution_count": null,
   "metadata": {},
   "outputs": [],
   "source": []
  }
 ],
 "metadata": {
  "kernelspec": {
   "display_name": "Python 3",
   "language": "python",
   "name": "python3"
  },
  "language_info": {
   "codemirror_mode": {
    "name": "ipython",
    "version": 3
   },
   "file_extension": ".py",
   "mimetype": "text/x-python",
   "name": "python",
   "nbconvert_exporter": "python",
   "pygments_lexer": "ipython3",
   "version": "3.7.4"
  }
 },
 "nbformat": 4,
 "nbformat_minor": 2
}
