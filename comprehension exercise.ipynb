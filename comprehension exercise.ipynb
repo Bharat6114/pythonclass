{
 "cells": [
  {
   "cell_type": "code",
   "execution_count": 2,
   "id": "09cf4aa2",
   "metadata": {},
   "outputs": [
    {
     "data": {
      "text/plain": [
       "[0, 10, 20, 30, 40, 50, 60, 70, 80, 90]"
      ]
     },
     "execution_count": 2,
     "metadata": {},
     "output_type": "execute_result"
    }
   ],
   "source": [
    "[x for x in range(0,100) if x%2==0 and x%5==0]"
   ]
  },
  {
   "cell_type": "code",
   "execution_count": 4,
   "id": "692b34f7",
   "metadata": {},
   "outputs": [
    {
     "data": {
      "text/plain": [
       "[3, 13, 23, 30, 31, 32, 33, 34, 35, 36, 37, 38, 39, 43, 53, 63, 73, 83, 93]"
      ]
     },
     "execution_count": 4,
     "metadata": {},
     "output_type": "execute_result"
    }
   ],
   "source": [
    "[x for x in range(100) if '3' in str(x)]"
   ]
  },
  {
   "cell_type": "code",
   "execution_count": 5,
   "id": "088fc50b",
   "metadata": {},
   "outputs": [
    {
     "data": {
      "text/plain": [
       "[4, 14, 24, 34, 40, 41, 42, 43, 44, 45, 46, 47, 48, 49, 54, 64, 74, 84, 94]"
      ]
     },
     "execution_count": 5,
     "metadata": {},
     "output_type": "execute_result"
    }
   ],
   "source": [
    "[x for x in range(100) if '4' in str(x)]"
   ]
  },
  {
   "cell_type": "code",
   "execution_count": 6,
   "id": "324d8dc4",
   "metadata": {},
   "outputs": [
    {
     "data": {
      "text/plain": [
       "[0, 4, 16, 36, 64]"
      ]
     },
     "execution_count": 6,
     "metadata": {},
     "output_type": "execute_result"
    }
   ],
   "source": [
    "[x**2 for x in range(10) if x%2==0]"
   ]
  },
  {
   "cell_type": "code",
   "execution_count": 7,
   "id": "dcf16942",
   "metadata": {},
   "outputs": [
    {
     "data": {
      "text/plain": [
       "['a', 'e', 'a', 'i']"
      ]
     },
     "execution_count": 7,
     "metadata": {},
     "output_type": "execute_result"
    }
   ],
   "source": [
    "data='mathematics'\n",
    "[x for x in data if x in 'aeiou']"
   ]
  },
  {
   "cell_type": "code",
   "execution_count": 9,
   "id": "031c6ea5",
   "metadata": {},
   "outputs": [
    {
     "data": {
      "text/plain": [
       "4"
      ]
     },
     "execution_count": 9,
     "metadata": {},
     "output_type": "execute_result"
    }
   ],
   "source": [
    "len([x for x in data if x in 'aeiou'])"
   ]
  },
  {
   "cell_type": "code",
   "execution_count": 10,
   "id": "beb226d4",
   "metadata": {},
   "outputs": [
    {
     "name": "stdout",
     "output_type": "stream",
     "text": [
      "0 m\n",
      "1 a\n",
      "2 t\n",
      "3 h\n",
      "4 e\n",
      "5 m\n",
      "6 a\n",
      "7 t\n",
      "8 i\n",
      "9 c\n",
      "10 s\n"
     ]
    }
   ],
   "source": [
    "for i ,j in enumerate(data):\n",
    "    print(i,j)"
   ]
  },
  {
   "cell_type": "code",
   "execution_count": 20,
   "id": "f17c023e",
   "metadata": {},
   "outputs": [
    {
     "name": "stdout",
     "output_type": "stream",
     "text": [
      "1X2=2\n",
      "1X3=3\n",
      "1X4=4\n",
      "1X5=5\n",
      "1X6=6\n",
      "1X7=7\n",
      "1X8=8\n",
      "1X9=9\n",
      "1X10=10\n",
      "1X11=11\n",
      "1X12=12\n",
      "1X13=13\n",
      "1X14=14\n",
      "1X15=15\n",
      "1X16=16\n",
      "1X17=17\n",
      "1X18=18\n",
      "1X19=19\n",
      "2X2=4\n",
      "2X3=6\n",
      "2X4=8\n",
      "2X5=10\n",
      "2X6=12\n",
      "2X7=14\n",
      "2X8=16\n",
      "2X9=18\n",
      "2X10=20\n",
      "2X11=22\n",
      "2X12=24\n",
      "2X13=26\n",
      "2X14=28\n",
      "2X15=30\n",
      "2X16=32\n",
      "2X17=34\n",
      "2X18=36\n",
      "2X19=38\n",
      "3X2=6\n",
      "3X3=9\n",
      "3X4=12\n",
      "3X5=15\n",
      "3X6=18\n",
      "3X7=21\n",
      "3X8=24\n",
      "3X9=27\n",
      "3X10=30\n",
      "3X11=33\n",
      "3X12=36\n",
      "3X13=39\n",
      "3X14=42\n",
      "3X15=45\n",
      "3X16=48\n",
      "3X17=51\n",
      "3X18=54\n",
      "3X19=57\n",
      "4X2=8\n",
      "4X3=12\n",
      "4X4=16\n",
      "4X5=20\n",
      "4X6=24\n",
      "4X7=28\n",
      "4X8=32\n",
      "4X9=36\n",
      "4X10=40\n",
      "4X11=44\n",
      "4X12=48\n",
      "4X13=52\n",
      "4X14=56\n",
      "4X15=60\n",
      "4X16=64\n",
      "4X17=68\n",
      "4X18=72\n",
      "4X19=76\n",
      "5X2=10\n",
      "5X3=15\n",
      "5X4=20\n",
      "5X5=25\n",
      "5X6=30\n",
      "5X7=35\n",
      "5X8=40\n",
      "5X9=45\n",
      "5X10=50\n",
      "5X11=55\n",
      "5X12=60\n",
      "5X13=65\n",
      "5X14=70\n",
      "5X15=75\n",
      "5X16=80\n",
      "5X17=85\n",
      "5X18=90\n",
      "5X19=95\n",
      "6X2=12\n",
      "6X3=18\n",
      "6X4=24\n",
      "6X5=30\n",
      "6X6=36\n",
      "6X7=42\n",
      "6X8=48\n",
      "6X9=54\n",
      "6X10=60\n",
      "6X11=66\n",
      "6X12=72\n",
      "6X13=78\n",
      "6X14=84\n",
      "6X15=90\n",
      "6X16=96\n",
      "6X17=102\n",
      "6X18=108\n",
      "6X19=114\n",
      "7X2=14\n",
      "7X3=21\n",
      "7X4=28\n",
      "7X5=35\n",
      "7X6=42\n",
      "7X7=49\n",
      "7X8=56\n",
      "7X9=63\n",
      "7X10=70\n",
      "7X11=77\n",
      "7X12=84\n",
      "7X13=91\n",
      "7X14=98\n",
      "7X15=105\n",
      "7X16=112\n",
      "7X17=119\n",
      "7X18=126\n",
      "7X19=133\n",
      "8X2=16\n",
      "8X3=24\n",
      "8X4=32\n",
      "8X5=40\n",
      "8X6=48\n",
      "8X7=56\n",
      "8X8=64\n",
      "8X9=72\n",
      "8X10=80\n",
      "8X11=88\n",
      "8X12=96\n",
      "8X13=104\n",
      "8X14=112\n",
      "8X15=120\n",
      "8X16=128\n",
      "8X17=136\n",
      "8X18=144\n",
      "8X19=152\n",
      "9X2=18\n",
      "9X3=27\n",
      "9X4=36\n",
      "9X5=45\n",
      "9X6=54\n",
      "9X7=63\n",
      "9X8=72\n",
      "9X9=81\n",
      "9X10=90\n",
      "9X11=99\n",
      "9X12=108\n",
      "9X13=117\n",
      "9X14=126\n",
      "9X15=135\n",
      "9X16=144\n",
      "9X17=153\n",
      "9X18=162\n",
      "9X19=171\n",
      "10X2=20\n",
      "10X3=30\n",
      "10X4=40\n",
      "10X5=50\n",
      "10X6=60\n",
      "10X7=70\n",
      "10X8=80\n",
      "10X9=90\n",
      "10X10=100\n",
      "10X11=110\n",
      "10X12=120\n",
      "10X13=130\n",
      "10X14=140\n",
      "10X15=150\n",
      "10X16=160\n",
      "10X17=170\n",
      "10X18=180\n",
      "10X19=190\n"
     ]
    }
   ],
   "source": [
    "for i in range(1,11):\n",
    "    for j in range(2,20):\n",
    "        print(\"{}X{}={}\".format(i,j,j*i))"
   ]
  },
  {
   "cell_type": "code",
   "execution_count": null,
   "id": "5cd32848",
   "metadata": {},
   "outputs": [],
   "source": []
  },
  {
   "cell_type": "code",
   "execution_count": null,
   "id": "ea179f08",
   "metadata": {},
   "outputs": [],
   "source": []
  },
  {
   "cell_type": "code",
   "execution_count": null,
   "id": "016a2caf",
   "metadata": {},
   "outputs": [],
   "source": []
  },
  {
   "cell_type": "code",
   "execution_count": null,
   "id": "42424470",
   "metadata": {},
   "outputs": [],
   "source": []
  },
  {
   "cell_type": "code",
   "execution_count": null,
   "id": "4eabd5a5",
   "metadata": {},
   "outputs": [],
   "source": []
  },
  {
   "cell_type": "code",
   "execution_count": null,
   "id": "d872cf86",
   "metadata": {},
   "outputs": [],
   "source": []
  },
  {
   "cell_type": "code",
   "execution_count": null,
   "id": "00ddf706",
   "metadata": {},
   "outputs": [],
   "source": []
  },
  {
   "cell_type": "code",
   "execution_count": null,
   "id": "512f63f2",
   "metadata": {},
   "outputs": [],
   "source": []
  }
 ],
 "metadata": {
  "kernelspec": {
   "display_name": "Python 3 (ipykernel)",
   "language": "python",
   "name": "python3"
  },
  "language_info": {
   "codemirror_mode": {
    "name": "ipython",
    "version": 3
   },
   "file_extension": ".py",
   "mimetype": "text/x-python",
   "name": "python",
   "nbconvert_exporter": "python",
   "pygments_lexer": "ipython3",
   "version": "3.9.13"
  }
 },
 "nbformat": 4,
 "nbformat_minor": 5
}
