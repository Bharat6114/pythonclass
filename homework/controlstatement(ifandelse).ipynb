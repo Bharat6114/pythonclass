{
 "cells": [
  {
   "cell_type": "code",
   "execution_count": 5,
   "metadata": {},
   "outputs": [
    {
     "name": "stdout",
     "output_type": "stream",
     "text": [
      "enter the value of i:20\n",
      "20 8000\n"
     ]
    }
   ],
   "source": [
    "i=int(input(\"enter the value of i:\"))\n",
    "if i%2 == 0:\n",
    "     print(i , i**3)\n",
    "        \n",
    "else:\n",
    "     print(i, i**2)"
   ]
  },
  {
   "cell_type": "code",
   "execution_count": 8,
   "metadata": {},
   "outputs": [
    {
     "name": "stdout",
     "output_type": "stream",
     "text": [
      "enter the value of a:13\n",
      "The number is odd\n"
     ]
    }
   ],
   "source": [
    "a=int(input(\"enter the value of a:\"))\n",
    "if a%2 == 1:\n",
    "    print(\"The number is odd\")\n",
    "else:\n",
    "    print(\"The number is even\")"
   ]
  }
 ],
 "metadata": {
  "kernelspec": {
   "display_name": "Python 3",
   "language": "python",
   "name": "python3"
  },
  "language_info": {
   "codemirror_mode": {
    "name": "ipython",
    "version": 3
   },
   "file_extension": ".py",
   "mimetype": "text/x-python",
   "name": "python",
   "nbconvert_exporter": "python",
   "pygments_lexer": "ipython3",
   "version": "3.7.4"
  }
 },
 "nbformat": 4,
 "nbformat_minor": 2
}
