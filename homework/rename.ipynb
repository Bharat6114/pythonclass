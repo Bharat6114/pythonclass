{
 "cells": [
  {
   "cell_type": "code",
   "execution_count": 70,
   "metadata": {},
   "outputs": [],
   "source": [
    "import os"
   ]
  },
  {
   "cell_type": "code",
   "execution_count": 71,
   "metadata": {},
   "outputs": [
    {
     "data": {
      "text/plain": [
       "'C:\\\\Users\\\\Bharat Bhandari\\\\Desktop\\\\phopto'"
      ]
     },
     "execution_count": 71,
     "metadata": {},
     "output_type": "execute_result"
    }
   ],
   "source": [
    "os.getcwd()"
   ]
  },
  {
   "cell_type": "code",
   "execution_count": 72,
   "metadata": {},
   "outputs": [],
   "source": [
    "os.chdir(\"C:\\\\Users\\\\Bharat Bhandari\\\\Desktop\\\\phopto\\\\\")"
   ]
  },
  {
   "cell_type": "code",
   "execution_count": 73,
   "metadata": {},
   "outputs": [],
   "source": [
    "s=\"file.png.jpg\""
   ]
  },
  {
   "cell_type": "code",
   "execution_count": 45,
   "metadata": {},
   "outputs": [
    {
     "data": {
      "text/plain": [
       "['file', 'png', 'jpg']"
      ]
     },
     "execution_count": 45,
     "metadata": {},
     "output_type": "execute_result"
    }
   ],
   "source": [
    "s.split(\".\")\n"
   ]
  },
  {
   "cell_type": "code",
   "execution_count": 74,
   "metadata": {},
   "outputs": [
    {
     "data": {
      "text/plain": [
       "'jpg'"
      ]
     },
     "execution_count": 74,
     "metadata": {},
     "output_type": "execute_result"
    }
   ],
   "source": [
    "s.split(\".\")[-1]"
   ]
  },
  {
   "cell_type": "code",
   "execution_count": 75,
   "metadata": {},
   "outputs": [
    {
     "data": {
      "text/plain": [
       "['pu_2019_dec_0.jpg',\n",
       " 'pu_2019_dec_1.jpg',\n",
       " 'pu_2019_dec_10.jpg',\n",
       " 'pu_2019_dec_11.jpg',\n",
       " 'pu_2019_dec_12.jpg',\n",
       " 'pu_2019_dec_13.jpg',\n",
       " 'pu_2019_dec_14.jpg',\n",
       " 'pu_2019_dec_15.jpg',\n",
       " 'pu_2019_dec_16.jpg',\n",
       " 'pu_2019_dec_17.jpg',\n",
       " 'pu_2019_dec_18.jpg',\n",
       " 'pu_2019_dec_19.jpg',\n",
       " 'pu_2019_dec_2.jpg',\n",
       " 'pu_2019_dec_20.jpg',\n",
       " 'pu_2019_dec_21.jpg',\n",
       " 'pu_2019_dec_22.jpg',\n",
       " 'pu_2019_dec_23.jpg',\n",
       " 'pu_2019_dec_24.jpg',\n",
       " 'pu_2019_dec_25.jpg',\n",
       " 'pu_2019_dec_26.jpg',\n",
       " 'pu_2019_dec_27.jpg',\n",
       " 'pu_2019_dec_28.jpg',\n",
       " 'pu_2019_dec_29.jpg',\n",
       " 'pu_2019_dec_3.jpg',\n",
       " 'pu_2019_dec_30.jpg',\n",
       " 'pu_2019_dec_31.jpg',\n",
       " 'pu_2019_dec_32.jpg',\n",
       " 'pu_2019_dec_33.jpg',\n",
       " 'pu_2019_dec_34.jpg',\n",
       " 'pu_2019_dec_35.jpg',\n",
       " 'pu_2019_dec_36.jpg',\n",
       " 'pu_2019_dec_37.jpg',\n",
       " 'pu_2019_dec_38.jpg',\n",
       " 'pu_2019_dec_39.jpg',\n",
       " 'pu_2019_dec_4.jpg',\n",
       " 'pu_2019_dec_40.jpg',\n",
       " 'pu_2019_dec_41.jpg',\n",
       " 'pu_2019_dec_42.jpg',\n",
       " 'pu_2019_dec_43.jpg',\n",
       " 'pu_2019_dec_44.jpg',\n",
       " 'pu_2019_dec_45.jpg',\n",
       " 'pu_2019_dec_46.jpg',\n",
       " 'pu_2019_dec_47.jpg',\n",
       " 'pu_2019_dec_48.jpg',\n",
       " 'pu_2019_dec_49.jpg',\n",
       " 'pu_2019_dec_5.jpg',\n",
       " 'pu_2019_dec_50.jpg',\n",
       " 'pu_2019_dec_51.jpg',\n",
       " 'pu_2019_dec_52.jpg',\n",
       " 'pu_2019_dec_53.jpg',\n",
       " 'pu_2019_dec_54.jpg',\n",
       " 'pu_2019_dec_55.jpg',\n",
       " 'pu_2019_dec_56.jpg',\n",
       " 'pu_2019_dec_57.jpg',\n",
       " 'pu_2019_dec_58.jpg',\n",
       " 'pu_2019_dec_59.jpg',\n",
       " 'pu_2019_dec_6.jpg',\n",
       " 'pu_2019_dec_7.jpg',\n",
       " 'pu_2019_dec_8.jpg',\n",
       " 'pu_2019_dec_9.jpg']"
      ]
     },
     "execution_count": 75,
     "metadata": {},
     "output_type": "execute_result"
    }
   ],
   "source": [
    "os.listdir()"
   ]
  },
  {
   "cell_type": "code",
   "execution_count": 80,
   "metadata": {},
   "outputs": [
    {
     "ename": "FileNotFoundError",
     "evalue": "[WinError 3] The system cannot find the path specified: 'New Microsoft PowerPoint Presentation.pptx' -> 'ext/pu_2019_dec_pptx0.pptx'",
     "output_type": "error",
     "traceback": [
      "\u001b[1;31m---------------------------------------------------------------------------\u001b[0m",
      "\u001b[1;31mFileNotFoundError\u001b[0m                         Traceback (most recent call last)",
      "\u001b[1;32m<ipython-input-80-e7616f181ff5>\u001b[0m in \u001b[0;36m<module>\u001b[1;34m\u001b[0m\n\u001b[0;32m      1\u001b[0m \u001b[1;32mfor\u001b[0m \u001b[0mcount\u001b[0m\u001b[1;33m,\u001b[0m\u001b[0mfile\u001b[0m \u001b[1;32min\u001b[0m \u001b[0menumerate\u001b[0m \u001b[1;33m(\u001b[0m\u001b[0mos\u001b[0m\u001b[1;33m.\u001b[0m\u001b[0mlistdir\u001b[0m\u001b[1;33m(\u001b[0m\u001b[1;33m)\u001b[0m\u001b[1;33m)\u001b[0m\u001b[1;33m:\u001b[0m\u001b[1;33m\u001b[0m\u001b[1;33m\u001b[0m\u001b[0m\n\u001b[0;32m      2\u001b[0m     \u001b[0mext\u001b[0m\u001b[1;33m=\u001b[0m\u001b[0mfile\u001b[0m\u001b[1;33m.\u001b[0m\u001b[0msplit\u001b[0m\u001b[1;33m(\u001b[0m\u001b[1;34m\".\"\u001b[0m\u001b[1;33m)\u001b[0m\u001b[1;33m[\u001b[0m\u001b[1;33m-\u001b[0m\u001b[1;36m1\u001b[0m\u001b[1;33m]\u001b[0m\u001b[1;33m\u001b[0m\u001b[1;33m\u001b[0m\u001b[0m\n\u001b[1;32m----> 3\u001b[1;33m     \u001b[0mos\u001b[0m\u001b[1;33m.\u001b[0m\u001b[0mrename\u001b[0m\u001b[1;33m(\u001b[0m\u001b[0mfile\u001b[0m\u001b[1;33m,\u001b[0m\u001b[1;34m\"ext/pu_2019_dec_{}{}.{}\"\u001b[0m\u001b[1;33m.\u001b[0m\u001b[0mformat\u001b[0m\u001b[1;33m(\u001b[0m\u001b[0mext\u001b[0m\u001b[1;33m,\u001b[0m\u001b[0mcount\u001b[0m\u001b[1;33m,\u001b[0m\u001b[0mext\u001b[0m\u001b[1;33m)\u001b[0m\u001b[1;33m)\u001b[0m\u001b[1;33m\u001b[0m\u001b[1;33m\u001b[0m\u001b[0m\n\u001b[0m",
      "\u001b[1;31mFileNotFoundError\u001b[0m: [WinError 3] The system cannot find the path specified: 'New Microsoft PowerPoint Presentation.pptx' -> 'ext/pu_2019_dec_pptx0.pptx'"
     ]
    }
   ],
   "source": [
    "for count,file in enumerate (os.listdir()):\n",
    "    ext=file.split(\".\")[-1]\n",
    "    os.rename(file,\"ext/pu_2019_dec_{}{}.{}\".format(ext,count,ext))"
   ]
  },
  {
   "cell_type": "code",
   "execution_count": 69,
   "metadata": {},
   "outputs": [
    {
     "data": {
      "text/plain": [
       "['pu_2019_dec_0.jpg',\n",
       " 'pu_2019_dec_1.jpg',\n",
       " 'pu_2019_dec_10.jpg',\n",
       " 'pu_2019_dec_11.jpg',\n",
       " 'pu_2019_dec_12.jpg',\n",
       " 'pu_2019_dec_13.jpg',\n",
       " 'pu_2019_dec_14.jpg',\n",
       " 'pu_2019_dec_15.jpg',\n",
       " 'pu_2019_dec_16.jpg',\n",
       " 'pu_2019_dec_17.jpg',\n",
       " 'pu_2019_dec_18.jpg',\n",
       " 'pu_2019_dec_19.jpg',\n",
       " 'pu_2019_dec_2.jpg',\n",
       " 'pu_2019_dec_20.jpg',\n",
       " 'pu_2019_dec_21.jpg',\n",
       " 'pu_2019_dec_22.jpg',\n",
       " 'pu_2019_dec_23.jpg',\n",
       " 'pu_2019_dec_24.jpg',\n",
       " 'pu_2019_dec_25.jpg',\n",
       " 'pu_2019_dec_26.jpg',\n",
       " 'pu_2019_dec_27.jpg',\n",
       " 'pu_2019_dec_28.jpg',\n",
       " 'pu_2019_dec_29.jpg',\n",
       " 'pu_2019_dec_3.jpg',\n",
       " 'pu_2019_dec_30.jpg',\n",
       " 'pu_2019_dec_31.jpg',\n",
       " 'pu_2019_dec_32.jpg',\n",
       " 'pu_2019_dec_33.jpg',\n",
       " 'pu_2019_dec_34.jpg',\n",
       " 'pu_2019_dec_35.jpg',\n",
       " 'pu_2019_dec_36.jpg',\n",
       " 'pu_2019_dec_37.jpg',\n",
       " 'pu_2019_dec_38.jpg',\n",
       " 'pu_2019_dec_39.jpg',\n",
       " 'pu_2019_dec_4.jpg',\n",
       " 'pu_2019_dec_40.jpg',\n",
       " 'pu_2019_dec_41.jpg',\n",
       " 'pu_2019_dec_42.jpg',\n",
       " 'pu_2019_dec_43.jpg',\n",
       " 'pu_2019_dec_44.jpg',\n",
       " 'pu_2019_dec_45.jpg',\n",
       " 'pu_2019_dec_46.jpg',\n",
       " 'pu_2019_dec_47.jpg',\n",
       " 'pu_2019_dec_48.jpg',\n",
       " 'pu_2019_dec_49.jpg',\n",
       " 'pu_2019_dec_5.jpg',\n",
       " 'pu_2019_dec_50.jpg',\n",
       " 'pu_2019_dec_51.jpg',\n",
       " 'pu_2019_dec_52.jpg',\n",
       " 'pu_2019_dec_53.jpg',\n",
       " 'pu_2019_dec_54.jpg',\n",
       " 'pu_2019_dec_55.jpg',\n",
       " 'pu_2019_dec_56.jpg',\n",
       " 'pu_2019_dec_57.jpg',\n",
       " 'pu_2019_dec_58.jpg',\n",
       " 'pu_2019_dec_59.jpg',\n",
       " 'pu_2019_dec_6.jpg',\n",
       " 'pu_2019_dec_7.jpg',\n",
       " 'pu_2019_dec_8.jpg',\n",
       " 'pu_2019_dec_9.jpg']"
      ]
     },
     "execution_count": 69,
     "metadata": {},
     "output_type": "execute_result"
    }
   ],
   "source": [
    "os.listdir()"
   ]
  }
 ],
 "metadata": {
  "kernelspec": {
   "display_name": "Python 3",
   "language": "python",
   "name": "python3"
  },
  "language_info": {
   "codemirror_mode": {
    "name": "ipython",
    "version": 3
   },
   "file_extension": ".py",
   "mimetype": "text/x-python",
   "name": "python",
   "nbconvert_exporter": "python",
   "pygments_lexer": "ipython3",
   "version": "3.7.4"
  }
 },
 "nbformat": 4,
 "nbformat_minor": 2
}
