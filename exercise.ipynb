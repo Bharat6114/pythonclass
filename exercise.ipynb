{
 "cells": [
  {
   "cell_type": "code",
   "execution_count": 5,
   "id": "38b51db4",
   "metadata": {},
   "outputs": [],
   "source": [
    "def maximum(a,b,c):\n",
    "    if(a>b and a>c):\n",
    "        print( \"a is maximum number\",a)\n",
    "    elif(b>a and b>c):\n",
    "        print( \"b is maximum number\",b)\n",
    "    else:\n",
    "         print(\"c is maximum number\",c)"
   ]
  },
  {
   "cell_type": "code",
   "execution_count": 6,
   "id": "a7a58fec",
   "metadata": {},
   "outputs": [
    {
     "name": "stdout",
     "output_type": "stream",
     "text": [
      "c is maximum number 3\n"
     ]
    }
   ],
   "source": [
    "maximum(1,2,3)"
   ]
  },
  {
   "cell_type": "code",
   "execution_count": 8,
   "id": "47e5d8e4",
   "metadata": {},
   "outputs": [],
   "source": [
    "def listsum(num):\n",
    "    sum=0\n",
    "    for i in num:\n",
    "        sum=sum+i\n",
    "    return sum"
   ]
  },
  {
   "cell_type": "code",
   "execution_count": 9,
   "id": "6086bacb",
   "metadata": {},
   "outputs": [
    {
     "name": "stdout",
     "output_type": "stream",
     "text": [
      "15\n"
     ]
    }
   ],
   "source": [
    "print(listsum([1,2,3,4,5]))"
   ]
  },
  {
   "cell_type": "code",
   "execution_count": 12,
   "id": "0db78648",
   "metadata": {},
   "outputs": [],
   "source": [
    "def listmultiply(num):\n",
    "    total=1\n",
    "    for i in num:\n",
    "        total =total*i\n",
    "    return total"
   ]
  },
  {
   "cell_type": "code",
   "execution_count": 13,
   "id": "d5f784c8",
   "metadata": {},
   "outputs": [
    {
     "name": "stdout",
     "output_type": "stream",
     "text": [
      "120\n"
     ]
    }
   ],
   "source": [
    "print(listmultiply([1,2,3,4,5]))"
   ]
  },
  {
   "cell_type": "code",
   "execution_count": 14,
   "id": "09de8723",
   "metadata": {},
   "outputs": [],
   "source": [
    "def reverse(string2):\n",
    "    string1=\"\"\n",
    "    index = len(string2)\n",
    "    for i in string2:\n",
    "        string1=string1+string2[index-1]\n",
    "        index=index-1\n",
    "    return string1\n",
    "        "
   ]
  },
  {
   "cell_type": "code",
   "execution_count": 15,
   "id": "e895f452",
   "metadata": {},
   "outputs": [
    {
     "data": {
      "text/plain": [
       "'tarahb'"
      ]
     },
     "execution_count": 15,
     "metadata": {},
     "output_type": "execute_result"
    }
   ],
   "source": [
    "reverse(\"bharat\")"
   ]
  },
  {
   "cell_type": "code",
   "execution_count": 16,
   "id": "3a7f4db4",
   "metadata": {},
   "outputs": [],
   "source": [
    "def factorial(n):\n",
    "    if(n<0):\n",
    "        print(\"the number is negative\")\n",
    "    elif(n==1):\n",
    "        return 1\n",
    "    else:\n",
    "        return n*factorial(n-1)"
   ]
  },
  {
   "cell_type": "code",
   "execution_count": 17,
   "id": "2038360a",
   "metadata": {},
   "outputs": [
    {
     "data": {
      "text/plain": [
       "120"
      ]
     },
     "execution_count": 17,
     "metadata": {},
     "output_type": "execute_result"
    }
   ],
   "source": [
    "factorial(5)"
   ]
  },
  {
   "cell_type": "code",
   "execution_count": 21,
   "id": "176fe588",
   "metadata": {},
   "outputs": [],
   "source": [
    "def num(num):\n",
    "    if num in range(30):\n",
    "        return \"the number is in range\"\n",
    "    else:\n",
    "        return \"the number is not in range\""
   ]
  },
  {
   "cell_type": "code",
   "execution_count": 23,
   "id": "01f562df",
   "metadata": {},
   "outputs": [
    {
     "data": {
      "text/plain": [
       "'the number is in range'"
      ]
     },
     "execution_count": 23,
     "metadata": {},
     "output_type": "execute_result"
    }
   ],
   "source": [
    "num(20)"
   ]
  },
  {
   "cell_type": "code",
   "execution_count": 24,
   "id": "988e5686",
   "metadata": {},
   "outputs": [],
   "source": [
    "def tocheckuppercase(string1):\n",
    "    upper=0\n",
    "    lower=0\n",
    "    for i in string1:\n",
    "        if i.isupper():\n",
    "            upper=upper+1\n",
    "        else:\n",
    "            lower=lower+1\n",
    "    print(\"lower letter= \",lower)\n",
    "    print(\"upper letter= \", upper)"
   ]
  },
  {
   "cell_type": "code",
   "execution_count": 26,
   "id": "de014248",
   "metadata": {},
   "outputs": [
    {
     "name": "stdout",
     "output_type": "stream",
     "text": [
      "lower letter=  5\n",
      "upper letter=  6\n"
     ]
    }
   ],
   "source": [
    "tocheckuppercase(\"helloPYTHON\")"
   ]
  },
  {
   "cell_type": "code",
   "execution_count": 30,
   "id": "d39766c7",
   "metadata": {},
   "outputs": [],
   "source": [
    "def uniquelist(list1):\n",
    "    set1=set({})\n",
    "    for i in list1:\n",
    "        set1.add(i)\n",
    "    return list(set1)"
   ]
  },
  {
   "cell_type": "code",
   "execution_count": 31,
   "id": "40126745",
   "metadata": {},
   "outputs": [
    {
     "data": {
      "text/plain": [
       "[1, 2, 3, 4, 5, 65, 6]"
      ]
     },
     "execution_count": 31,
     "metadata": {},
     "output_type": "execute_result"
    }
   ],
   "source": [
    "uniquelist([1,2,3,4,5,5,65,6])"
   ]
  },
  {
   "cell_type": "code",
   "execution_count": 33,
   "id": "85ad61ac",
   "metadata": {},
   "outputs": [],
   "source": [
    "def unique(list1):\n",
    "    list2=[]\n",
    "    for i in list1:\n",
    "        if i not in list2:\n",
    "            list2.append(i)\n",
    "    return list2"
   ]
  },
  {
   "cell_type": "code",
   "execution_count": 34,
   "id": "57650ff1",
   "metadata": {},
   "outputs": [
    {
     "data": {
      "text/plain": [
       "[1, 2, 3, 4, 5, 566, 76, 7, 88, 8]"
      ]
     },
     "execution_count": 34,
     "metadata": {},
     "output_type": "execute_result"
    }
   ],
   "source": [
    "unique([1,2,3,4,5,566,76,7,88,8,8,8])"
   ]
  },
  {
   "cell_type": "code",
   "execution_count": 55,
   "id": "cdea24da",
   "metadata": {},
   "outputs": [],
   "source": [
    "def prime(n):\n",
    "    if(n==1):\n",
    "        print(\"the number is prime\")\n",
    "    elif(n==2):\n",
    "        return True\n",
    "    else:\n",
    "        for i in range(2,n):\n",
    "            if(n%i==0):\n",
    "                return False\n",
    "        else:\n",
    "            return True "
   ]
  },
  {
   "cell_type": "code",
   "execution_count": 57,
   "id": "acea3ff5",
   "metadata": {},
   "outputs": [
    {
     "data": {
      "text/plain": [
       "False"
      ]
     },
     "execution_count": 57,
     "metadata": {},
     "output_type": "execute_result"
    }
   ],
   "source": [
    "prime(9)"
   ]
  },
  {
   "cell_type": "code",
   "execution_count": 60,
   "id": "504665fa",
   "metadata": {},
   "outputs": [],
   "source": [
    "def even(num):\n",
    "    list1=[]\n",
    "    for i in num:\n",
    "        if(i%2==0):\n",
    "            list1.append(i)\n",
    "        else:\n",
    "            pass\n",
    "    return list1"
   ]
  },
  {
   "cell_type": "code",
   "execution_count": 61,
   "id": "c7b068de",
   "metadata": {},
   "outputs": [
    {
     "data": {
      "text/plain": [
       "[2, 4]"
      ]
     },
     "execution_count": 61,
     "metadata": {},
     "output_type": "execute_result"
    }
   ],
   "source": [
    "even([1,2,3,4,5])"
   ]
  },
  {
   "cell_type": "code",
   "execution_count": 8,
   "id": "7a2b2540",
   "metadata": {},
   "outputs": [],
   "source": [
    "def perfect(num):\n",
    "    sum=0\n",
    "    for i in range(1,num):\n",
    "        if(num%i==0):\n",
    "            sum=sum+i\n",
    "    return sum==num\n",
    "        "
   ]
  },
  {
   "cell_type": "code",
   "execution_count": 11,
   "id": "309bce57",
   "metadata": {},
   "outputs": [
    {
     "data": {
      "text/plain": [
       "True"
      ]
     },
     "execution_count": 11,
     "metadata": {},
     "output_type": "execute_result"
    }
   ],
   "source": [
    "perfect(28)"
   ]
  },
  {
   "cell_type": "code",
   "execution_count": 15,
   "id": "831e8cb5",
   "metadata": {},
   "outputs": [],
   "source": [
    "def palendrom(string1):\n",
    "    if(string1==string1[::-1]):\n",
    "        print(\"the number is palendrom\")\n",
    "    else:\n",
    "        print(\"the number is not palendrom\")"
   ]
  },
  {
   "cell_type": "code",
   "execution_count": 17,
   "id": "1aba0823",
   "metadata": {},
   "outputs": [
    {
     "name": "stdout",
     "output_type": "stream",
     "text": [
      "the number is palendrom\n"
     ]
    }
   ],
   "source": [
    "palendrom(\"palap\")"
   ]
  },
  {
   "cell_type": "code",
   "execution_count": 27,
   "id": "d551b948",
   "metadata": {},
   "outputs": [],
   "source": [
    "def sortstring(string1):\n",
    "    item=[x for x in string1.split(\"-\")]\n",
    "    item.sort()\n",
    "    print('-'.join(item))"
   ]
  },
  {
   "cell_type": "code",
   "execution_count": 28,
   "id": "01a23c80",
   "metadata": {},
   "outputs": [
    {
     "name": "stdout",
     "output_type": "stream",
     "text": [
      "bharat-hello-im\n"
     ]
    }
   ],
   "source": [
    "sortstring(\"hello-im-bharat\")"
   ]
  },
  {
   "cell_type": "code",
   "execution_count": 29,
   "id": "8932e862",
   "metadata": {},
   "outputs": [],
   "source": [
    "def square(num):\n",
    "    list1=[]\n",
    "    for i in num:\n",
    "        list1.append(i**2)\n",
    "    print(list1)\n",
    "        "
   ]
  },
  {
   "cell_type": "code",
   "execution_count": 31,
   "id": "ccd7854a",
   "metadata": {},
   "outputs": [
    {
     "name": "stdout",
     "output_type": "stream",
     "text": [
      "[1, 4, 9, 16, 25, 36, 49, 64, 81, 100, 121, 144, 169, 196, 225, 256, 289, 324, 361, 400, 441, 484, 529, 576, 625, 676, 729, 784, 841]\n"
     ]
    }
   ],
   "source": [
    "square(range(1,30))"
   ]
  },
  {
   "cell_type": "code",
   "execution_count": 36,
   "id": "5755df37",
   "metadata": {},
   "outputs": [],
   "source": [
    "def add():\n",
    "    a=10\n",
    "    b=30\n",
    "    string1=\"fhbvhsd\"\n"
   ]
  },
  {
   "cell_type": "code",
   "execution_count": 39,
   "id": "48fb2d0c",
   "metadata": {},
   "outputs": [
    {
     "name": "stdout",
     "output_type": "stream",
     "text": [
      "3\n"
     ]
    }
   ],
   "source": [
    "print(add.__code__.co_nlocals)"
   ]
  },
  {
   "cell_type": "code",
   "execution_count": 1,
   "id": "db90ee84",
   "metadata": {},
   "outputs": [],
   "source": [
    "def localvariable(num):\n",
    "    a=10\n",
    "    b=20\n",
    "    c=30\n",
    "    d=\"cvjnjofvn\"\n",
    "    print(a,b,c,d)"
   ]
  },
  {
   "cell_type": "code",
   "execution_count": 2,
   "id": "f2c356b6",
   "metadata": {},
   "outputs": [
    {
     "name": "stdout",
     "output_type": "stream",
     "text": [
      "5\n"
     ]
    }
   ],
   "source": [
    "print(localvariable.__code__.co_nlocals)"
   ]
  },
  {
   "cell_type": "code",
   "execution_count": 3,
   "id": "4ac519c4",
   "metadata": {},
   "outputs": [
    {
     "name": "stdout",
     "output_type": "stream",
     "text": [
      "__name__\n",
      "__doc__\n",
      "__package__\n",
      "__loader__\n",
      "__spec__\n",
      "_array_reconstructor\n",
      "ArrayType\n",
      "array\n",
      "typecodes\n"
     ]
    }
   ],
   "source": [
    "import array\n",
    "for name in array.__dict__:\n",
    "    print(name)\n"
   ]
  },
  {
   "cell_type": "code",
   "execution_count": 6,
   "id": "20c8f967",
   "metadata": {},
   "outputs": [
    {
     "name": "stdout",
     "output_type": "stream",
     "text": [
      "__module__\n",
      "__dict__\n",
      "__weakref__\n",
      "__doc__\n"
     ]
    }
   ],
   "source": [
    "class Number:\n",
    "    pass\n",
    "for name in Number.__dict__:\n",
    "    print(name)"
   ]
  },
  {
   "cell_type": "code",
   "execution_count": 16,
   "id": "edd25cd2",
   "metadata": {},
   "outputs": [],
   "source": [
    "class Info:\n",
    "    def __init__(self,address,name):\n",
    "        self.address=address\n",
    "        self.name=name\n",
    "        "
   ]
  },
  {
   "cell_type": "code",
   "execution_count": 17,
   "id": "5d690d90",
   "metadata": {},
   "outputs": [],
   "source": [
    " b = Info('jsdjsd','sdnfjds')"
   ]
  },
  {
   "cell_type": "code",
   "execution_count": 18,
   "id": "f441be89",
   "metadata": {},
   "outputs": [
    {
     "name": "stdout",
     "output_type": "stream",
     "text": [
      "sdnfjds jsdjsd\n"
     ]
    }
   ],
   "source": [
    "print(b.name,b.address)"
   ]
  },
  {
   "cell_type": "code",
   "execution_count": 19,
   "id": "46f63151",
   "metadata": {},
   "outputs": [
    {
     "name": "stdout",
     "output_type": "stream",
     "text": [
      "{'address': 'jsdjsd', 'name': 'sdnfjds'}\n"
     ]
    }
   ],
   "source": [
    "print(b.__dict__)"
   ]
  },
  {
   "cell_type": "code",
   "execution_count": 22,
   "id": "5774aaf0",
   "metadata": {},
   "outputs": [
    {
     "name": "stdout",
     "output_type": "stream",
     "text": [
      "Help on built-in function abs in module builtins:\n",
      "\n",
      "abs(x, /)\n",
      "    Return the absolute value of the argument.\n",
      "\n"
     ]
    }
   ],
   "source": [
    "import builtins\n",
    "help(builtins.abs)"
   ]
  },
  {
   "cell_type": "code",
   "execution_count": 23,
   "id": "7cff5f82",
   "metadata": {},
   "outputs": [
    {
     "name": "stdout",
     "output_type": "stream",
     "text": [
      "155\n"
     ]
    }
   ],
   "source": [
    "print(builtins.abs(-155))"
   ]
  },
  {
   "cell_type": "code",
   "execution_count": 31,
   "id": "dd2d3ccd",
   "metadata": {},
   "outputs": [
    {
     "name": "stdout",
     "output_type": "stream",
     "text": [
      "True\n",
      "True\n",
      "False\n",
      "False\n",
      "True\n",
      "True\n"
     ]
    }
   ],
   "source": [
    "class Student:\n",
    "    pass\n",
    "class Marks:\n",
    "    pass\n",
    "student1=Student()\n",
    "marks1=Marks()\n",
    "print(isinstance(student1,Student))\n",
    "print(isinstance(marks1,Marks))\n",
    "print(isinstance(student1,Marks))\n",
    "print(isinstance(marks1,Student))\n",
    "print(issubclass(Student,object))\n",
    "print(issubclass(Marks,object))"
   ]
  },
  {
   "cell_type": "code",
   "execution_count": null,
   "id": "6518a61e",
   "metadata": {},
   "outputs": [],
   "source": []
  },
  {
   "cell_type": "code",
   "execution_count": null,
   "id": "05644915",
   "metadata": {},
   "outputs": [],
   "source": []
  },
  {
   "cell_type": "code",
   "execution_count": null,
   "id": "8f208b27",
   "metadata": {},
   "outputs": [],
   "source": []
  },
  {
   "cell_type": "code",
   "execution_count": null,
   "id": "11bc2a01",
   "metadata": {},
   "outputs": [],
   "source": []
  },
  {
   "cell_type": "code",
   "execution_count": null,
   "id": "5076bff0",
   "metadata": {},
   "outputs": [],
   "source": []
  },
  {
   "cell_type": "code",
   "execution_count": null,
   "id": "198c26a8",
   "metadata": {},
   "outputs": [],
   "source": []
  },
  {
   "cell_type": "code",
   "execution_count": null,
   "id": "9d89cd30",
   "metadata": {},
   "outputs": [],
   "source": []
  },
  {
   "cell_type": "code",
   "execution_count": null,
   "id": "c4d0b9e8",
   "metadata": {},
   "outputs": [],
   "source": []
  }
 ],
 "metadata": {
  "kernelspec": {
   "display_name": "Python 3 (ipykernel)",
   "language": "python",
   "name": "python3"
  },
  "language_info": {
   "codemirror_mode": {
    "name": "ipython",
    "version": 3
   },
   "file_extension": ".py",
   "mimetype": "text/x-python",
   "name": "python",
   "nbconvert_exporter": "python",
   "pygments_lexer": "ipython3",
   "version": "3.9.12"
  }
 },
 "nbformat": 4,
 "nbformat_minor": 5
}
